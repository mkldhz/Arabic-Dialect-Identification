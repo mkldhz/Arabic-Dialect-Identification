{
  "nbformat": 4,
  "nbformat_minor": 0,
  "metadata": {
    "colab": {
      "provenance": []
    },
    "kernelspec": {
      "name": "python3",
      "display_name": "Python 3"
    },
    "language_info": {
      "name": "python"
    },
    "gpuClass": "standard"
  },
  "cells": [
    {
      "cell_type": "code",
      "source": [
        "%%capture\n",
        "! pip install emoji"
      ],
      "metadata": {
        "id": "vuxSwnd3tEqI"
      },
      "execution_count": null,
      "outputs": []
    },
    {
      "cell_type": "code",
      "execution_count": null,
      "metadata": {
        "id": "BavvaiLTor_Y"
      },
      "outputs": [],
      "source": [
        "import numpy as np\n",
        "import pandas as pd\n",
        "import matplotlib.pyplot as plt\n",
        "\n",
        "import nltk\n",
        "\n",
        "import emoji\n",
        "import re"
      ]
    },
    {
      "cell_type": "code",
      "source": [
        "nltk.download('stopwords')\n",
        "from nltk.corpus import stopwords"
      ],
      "metadata": {
        "colab": {
          "base_uri": "https://localhost:8080/"
        },
        "id": "3GTnis7l3wZ5",
        "outputId": "81823062-f187-4ca0-8a25-a2c9e23d4b81"
      },
      "execution_count": null,
      "outputs": [
        {
          "output_type": "stream",
          "name": "stderr",
          "text": [
            "[nltk_data] Downloading package stopwords to /root/nltk_data...\n",
            "[nltk_data]   Unzipping corpora/stopwords.zip.\n"
          ]
        }
      ]
    },
    {
      "cell_type": "code",
      "source": [
        "pd.set_option('display.max_colwidth', 1500)"
      ],
      "metadata": {
        "id": "NTVA5cFlq3Ob"
      },
      "execution_count": null,
      "outputs": []
    },
    {
      "cell_type": "markdown",
      "source": [
        "# EDA"
      ],
      "metadata": {
        "id": "QcA5_uBypLsZ"
      }
    },
    {
      "cell_type": "code",
      "source": [
        "data = pd.read_csv('data.csv')"
      ],
      "metadata": {
        "id": "Gj_F1P_WpI3W"
      },
      "execution_count": null,
      "outputs": []
    },
    {
      "cell_type": "code",
      "source": [
        "data.head()"
      ],
      "metadata": {
        "colab": {
          "base_uri": "https://localhost:8080/",
          "height": 206
        },
        "id": "fBXnI0ABpiJU",
        "outputId": "13a1607f-47a2-4d79-8d83-75ccb4334673"
      },
      "execution_count": null,
      "outputs": [
        {
          "output_type": "execute_result",
          "data": {
            "text/plain": [
              "                    id                                               text  \\\n",
              "0  1009754958479151232  @toha_Altomy @gy_yah قليلين ادب ومنافقين. لو ا...   \n",
              "1  1009794751548313600  @AlmFaisal 😂😂 الليبيين متقلبين!!!\\nبس بالنسبة ...   \n",
              "2  1019989115490787200  @smsm071990 @ALMOGRBE كل 20 تانيه شاب ليبي بير...   \n",
              "3  1035479791758135168  @AboryPro @lyranoo85 رانيا عقليتك متخلفة. اولا...   \n",
              "4  1035481122921164800  @lyranoo85 شكلك متعقدة علشان الراجل لي تحبيه ا...   \n",
              "\n",
              "  dialect  \n",
              "0      LY  \n",
              "1      LY  \n",
              "2      LY  \n",
              "3      LY  \n",
              "4      LY  "
            ],
            "text/html": [
              "\n",
              "  <div id=\"df-4031fc36-5cd8-4b32-b6cb-76aeadda18fd\">\n",
              "    <div class=\"colab-df-container\">\n",
              "      <div>\n",
              "<style scoped>\n",
              "    .dataframe tbody tr th:only-of-type {\n",
              "        vertical-align: middle;\n",
              "    }\n",
              "\n",
              "    .dataframe tbody tr th {\n",
              "        vertical-align: top;\n",
              "    }\n",
              "\n",
              "    .dataframe thead th {\n",
              "        text-align: right;\n",
              "    }\n",
              "</style>\n",
              "<table border=\"1\" class=\"dataframe\">\n",
              "  <thead>\n",
              "    <tr style=\"text-align: right;\">\n",
              "      <th></th>\n",
              "      <th>id</th>\n",
              "      <th>text</th>\n",
              "      <th>dialect</th>\n",
              "    </tr>\n",
              "  </thead>\n",
              "  <tbody>\n",
              "    <tr>\n",
              "      <th>0</th>\n",
              "      <td>1009754958479151232</td>\n",
              "      <td>@toha_Altomy @gy_yah قليلين ادب ومنافقين. لو ا...</td>\n",
              "      <td>LY</td>\n",
              "    </tr>\n",
              "    <tr>\n",
              "      <th>1</th>\n",
              "      <td>1009794751548313600</td>\n",
              "      <td>@AlmFaisal 😂😂 الليبيين متقلبين!!!\\nبس بالنسبة ...</td>\n",
              "      <td>LY</td>\n",
              "    </tr>\n",
              "    <tr>\n",
              "      <th>2</th>\n",
              "      <td>1019989115490787200</td>\n",
              "      <td>@smsm071990 @ALMOGRBE كل 20 تانيه شاب ليبي بير...</td>\n",
              "      <td>LY</td>\n",
              "    </tr>\n",
              "    <tr>\n",
              "      <th>3</th>\n",
              "      <td>1035479791758135168</td>\n",
              "      <td>@AboryPro @lyranoo85 رانيا عقليتك متخلفة. اولا...</td>\n",
              "      <td>LY</td>\n",
              "    </tr>\n",
              "    <tr>\n",
              "      <th>4</th>\n",
              "      <td>1035481122921164800</td>\n",
              "      <td>@lyranoo85 شكلك متعقدة علشان الراجل لي تحبيه ا...</td>\n",
              "      <td>LY</td>\n",
              "    </tr>\n",
              "  </tbody>\n",
              "</table>\n",
              "</div>\n",
              "      <button class=\"colab-df-convert\" onclick=\"convertToInteractive('df-4031fc36-5cd8-4b32-b6cb-76aeadda18fd')\"\n",
              "              title=\"Convert this dataframe to an interactive table.\"\n",
              "              style=\"display:none;\">\n",
              "        \n",
              "  <svg xmlns=\"http://www.w3.org/2000/svg\" height=\"24px\"viewBox=\"0 0 24 24\"\n",
              "       width=\"24px\">\n",
              "    <path d=\"M0 0h24v24H0V0z\" fill=\"none\"/>\n",
              "    <path d=\"M18.56 5.44l.94 2.06.94-2.06 2.06-.94-2.06-.94-.94-2.06-.94 2.06-2.06.94zm-11 1L8.5 8.5l.94-2.06 2.06-.94-2.06-.94L8.5 2.5l-.94 2.06-2.06.94zm10 10l.94 2.06.94-2.06 2.06-.94-2.06-.94-.94-2.06-.94 2.06-2.06.94z\"/><path d=\"M17.41 7.96l-1.37-1.37c-.4-.4-.92-.59-1.43-.59-.52 0-1.04.2-1.43.59L10.3 9.45l-7.72 7.72c-.78.78-.78 2.05 0 2.83L4 21.41c.39.39.9.59 1.41.59.51 0 1.02-.2 1.41-.59l7.78-7.78 2.81-2.81c.8-.78.8-2.07 0-2.86zM5.41 20L4 18.59l7.72-7.72 1.47 1.35L5.41 20z\"/>\n",
              "  </svg>\n",
              "      </button>\n",
              "      \n",
              "  <style>\n",
              "    .colab-df-container {\n",
              "      display:flex;\n",
              "      flex-wrap:wrap;\n",
              "      gap: 12px;\n",
              "    }\n",
              "\n",
              "    .colab-df-convert {\n",
              "      background-color: #E8F0FE;\n",
              "      border: none;\n",
              "      border-radius: 50%;\n",
              "      cursor: pointer;\n",
              "      display: none;\n",
              "      fill: #1967D2;\n",
              "      height: 32px;\n",
              "      padding: 0 0 0 0;\n",
              "      width: 32px;\n",
              "    }\n",
              "\n",
              "    .colab-df-convert:hover {\n",
              "      background-color: #E2EBFA;\n",
              "      box-shadow: 0px 1px 2px rgba(60, 64, 67, 0.3), 0px 1px 3px 1px rgba(60, 64, 67, 0.15);\n",
              "      fill: #174EA6;\n",
              "    }\n",
              "\n",
              "    [theme=dark] .colab-df-convert {\n",
              "      background-color: #3B4455;\n",
              "      fill: #D2E3FC;\n",
              "    }\n",
              "\n",
              "    [theme=dark] .colab-df-convert:hover {\n",
              "      background-color: #434B5C;\n",
              "      box-shadow: 0px 1px 3px 1px rgba(0, 0, 0, 0.15);\n",
              "      filter: drop-shadow(0px 1px 2px rgba(0, 0, 0, 0.3));\n",
              "      fill: #FFFFFF;\n",
              "    }\n",
              "  </style>\n",
              "\n",
              "      <script>\n",
              "        const buttonEl =\n",
              "          document.querySelector('#df-4031fc36-5cd8-4b32-b6cb-76aeadda18fd button.colab-df-convert');\n",
              "        buttonEl.style.display =\n",
              "          google.colab.kernel.accessAllowed ? 'block' : 'none';\n",
              "\n",
              "        async function convertToInteractive(key) {\n",
              "          const element = document.querySelector('#df-4031fc36-5cd8-4b32-b6cb-76aeadda18fd');\n",
              "          const dataTable =\n",
              "            await google.colab.kernel.invokeFunction('convertToInteractive',\n",
              "                                                     [key], {});\n",
              "          if (!dataTable) return;\n",
              "\n",
              "          const docLinkHtml = 'Like what you see? Visit the ' +\n",
              "            '<a target=\"_blank\" href=https://colab.research.google.com/notebooks/data_table.ipynb>data table notebook</a>'\n",
              "            + ' to learn more about interactive tables.';\n",
              "          element.innerHTML = '';\n",
              "          dataTable['output_type'] = 'display_data';\n",
              "          await google.colab.output.renderOutput(dataTable, element);\n",
              "          const docLink = document.createElement('div');\n",
              "          docLink.innerHTML = docLinkHtml;\n",
              "          element.appendChild(docLink);\n",
              "        }\n",
              "      </script>\n",
              "    </div>\n",
              "  </div>\n",
              "  "
            ]
          },
          "metadata": {},
          "execution_count": 4
        }
      ]
    },
    {
      "cell_type": "markdown",
      "source": [
        "* Count Rows"
      ],
      "metadata": {
        "id": "aqKN7_h-qhi7"
      }
    },
    {
      "cell_type": "code",
      "source": [
        "print(\"There is {} sentences\".format(data.shape[0]))"
      ],
      "metadata": {
        "colab": {
          "base_uri": "https://localhost:8080/"
        },
        "id": "2auAA9KtpQbg",
        "outputId": "31d55399-7160-4e92-cae5-049a2d70861f"
      },
      "execution_count": null,
      "outputs": [
        {
          "output_type": "stream",
          "name": "stdout",
          "text": [
            "There is 147725 sentences\n"
          ]
        }
      ]
    },
    {
      "cell_type": "markdown",
      "source": [
        "* Check NaNs"
      ],
      "metadata": {
        "id": "xVvoWjluqm8c"
      }
    },
    {
      "cell_type": "code",
      "source": [
        "data.isna().sum()"
      ],
      "metadata": {
        "colab": {
          "base_uri": "https://localhost:8080/"
        },
        "id": "Lgmq7F9Fpjiq",
        "outputId": "6318bf5a-186c-45d0-bc95-b090c5dccac9"
      },
      "execution_count": null,
      "outputs": [
        {
          "output_type": "execute_result",
          "data": {
            "text/plain": [
              "id         0\n",
              "text       0\n",
              "dialect    0\n",
              "dtype: int64"
            ]
          },
          "metadata": {},
          "execution_count": 5
        }
      ]
    },
    {
      "cell_type": "markdown",
      "source": [
        "* Drop ID"
      ],
      "metadata": {
        "id": "S2-hIGs0qpjn"
      }
    },
    {
      "cell_type": "code",
      "source": [
        "data.drop('id', axis=1, inplace=True)"
      ],
      "metadata": {
        "id": "fcbPNgQ1qM6X"
      },
      "execution_count": null,
      "outputs": []
    },
    {
      "cell_type": "markdown",
      "source": [
        "* Check Duplicates"
      ],
      "metadata": {
        "id": "REtR0VKQqrDo"
      }
    },
    {
      "cell_type": "code",
      "source": [
        "data.duplicated().sum()"
      ],
      "metadata": {
        "colab": {
          "base_uri": "https://localhost:8080/"
        },
        "id": "nCvwRGxnqSeM",
        "outputId": "c87d94c9-db06-49be-b8c5-7cd2133f12c7"
      },
      "execution_count": null,
      "outputs": [
        {
          "output_type": "execute_result",
          "data": {
            "text/plain": [
              "0"
            ]
          },
          "metadata": {},
          "execution_count": 8
        }
      ]
    },
    {
      "cell_type": "markdown",
      "source": [
        "* View Label Distribution"
      ],
      "metadata": {
        "id": "zimoE-aarQvM"
      }
    },
    {
      "cell_type": "code",
      "source": [
        "data['dialect'].value_counts().plot(kind='bar')\n",
        "plt.show()"
      ],
      "metadata": {
        "colab": {
          "base_uri": "https://localhost:8080/",
          "height": 440
        },
        "id": "js3K2Pr6rQj5",
        "outputId": "279c9612-da3d-4e9b-a62f-56d2b61ef7e2"
      },
      "execution_count": null,
      "outputs": [
        {
          "output_type": "display_data",
          "data": {
            "text/plain": [
              "<Figure size 640x480 with 1 Axes>"
            ],
            "image/png": "[encoded data removed]"
          },
          "metadata": {}
        }
      ]
    },
    {
      "cell_type": "markdown",
      "source": [
        "* View a Sample of The Dataset"
      ],
      "metadata": {
        "id": "4Nj8-pnYqs9l"
      }
    },
    {
      "cell_type": "code",
      "source": [
        "data.sample(20)"
      ],
      "metadata": {
        "colab": {
          "base_uri": "https://localhost:8080/",
          "height": 738
        },
        "id": "qFzTifE1qdno",
        "outputId": "e90e745d-146d-4d06-bac2-f0d813a8ef72"
      },
      "execution_count": null,
      "outputs": [
        {
          "output_type": "execute_result",
          "data": {
            "text/plain": [
              "                                                                                                                                                                                                          text  \\\n",
              "101717                                                                                                          اهو الفرصة جات لغاية عندكم ... تعالوا زوروا اسوان بقا 😅😊\\n#visit_aswan https://t.co/RE3CXXxKH4   \n",
              "72799                                                                                                                                                     @Moelnagar11 وممكن تدهنابزيت لو مدخلتش يابن ال......   \n",
              "127273                                                                                                                                                      @Diaalaaaaaaaaaa ضلك قلن اييي و عمال البدك ياه💃🏼💃🏼   \n",
              "127250                                                                                                                                           @MogHussein @JMklbhcfdtui انت شو دخلك؟😂\\nما تحس كتير ما بيسوى   \n",
              "5641                                                                          @bofajuve 😂😂😂😂😂😂😂😂😂😂😂😂😂😂😂😂😂 تو في واحد زعلان علي وحده يقعد يقول فكووو طيري و يلحن فيها انا ضيقلي علمي الفيديو  و الوهم اللي صاير   \n",
              "23764                                                                                                                                                                   @aynoo95 تعيش وتلبس طاقية وين المشكلة!   \n",
              "124783  @ferialjuhier @ay935 @saadhariri ماحدا منن بيستحي .مين قوى حزب الله وكان يدافع عنه ومنع تهمة الإرهاب عن الحزب غير الشهيد رفيق الحريري .من الاساس كان المفروض يقطعوا رأس الأفعى .بس ماكان عندهم بعد نظر   \n",
              "95399                                                                                                                                  وعلى ايه على ايه هنبكى على الماضي\\nايام وعدت ع الفاضي فى ايه هنبكى عليه   \n",
              "81795                                                                                                               @amira07144149 صباح الحاجات الحلوة أميرة😘 و 'خدى ده عارفه يهمك😉😅👇\\nhttps://t.co/vzx9o55ebq   \n",
              "42851                                                                                                                       @Pssktch متخفشي الوعي الحمد لله مبقاش فحال زمان . ربي يتبتنا على الحق هذا ما نقولو   \n",
              "5162                                                                                                                                               @SalemGargom الله يسلمك ياسلومه قريب منك انت راك تغيب عاد❤️   \n",
              "68224                                                                                                                                                         @MagedFanousMEPh اهه ربنا بيعوض باللعب الحلو ...   \n",
              "63561                                                                                                                                                                            @romagaber2 أنا شكه في كداااا   \n",
              "83097                                                                                                    @ANAMASRYA1234 @ehab34_antel كدا كدا هما خرفان وكدا كد بيغلطوا فينا وبيقولو علينا رقاصين مش طبالين بس   \n",
              "52808                                                                                                                                          ربنا يحميه .. بسم الله ما شاء الله عليه https://t.co/BLNHiUfX7F   \n",
              "33857                                                                                                                                                              @mahmidkdsl حيي خسارة فاتتني تغريدته هذي 😂😂   \n",
              "69384                                                                                                                                 @IIKRII يعنى لوسيڤر ناويها ناويها 😡 ربنا ينتقم منه ويحمى ضيوف الرحمان 🤲🏼   \n",
              "135892                                                                                                                                  @Rno_Mrwan @MAlgzouly الشغله دي فيها توريه\\nمعنى قريب ومعنى بعيد 😂😂😂😂😂   \n",
              "100592                                                                         @44ADEL_ABDOU44 حتي لو غلط مين فينا مش بيغلط ويتمني يكون كويس عمل حاجه كويس مش عيب ولا حرام نقله شكرا يارب البشر يتحولوا لانسان   \n",
              "6720                                                                                                                                                         @samsam_elf الاعاقة جايه منهم الله غالب مش بيدنا😂   \n",
              "\n",
              "       dialect  \n",
              "101717      EG  \n",
              "72799       EG  \n",
              "127273      LB  \n",
              "127250      LB  \n",
              "5641        LY  \n",
              "23764       LY  \n",
              "124783      LB  \n",
              "95399       EG  \n",
              "81795       EG  \n",
              "42851       MA  \n",
              "5162        LY  \n",
              "68224       EG  \n",
              "63561       EG  \n",
              "83097       EG  \n",
              "52808       EG  \n",
              "33857       LY  \n",
              "69384       EG  \n",
              "135892      SD  \n",
              "100592      EG  \n",
              "6720        LY  "
            ],
            "text/html": [
              "\n",
              "  <div id=\"df-5fbd707d-f097-4203-a9ac-881798fb3fc9\">\n",
              "    <div class=\"colab-df-container\">\n",
              "      <div>\n",
              "<style scoped>\n",
              "    .dataframe tbody tr th:only-of-type {\n",
              "        vertical-align: middle;\n",
              "    }\n",
              "\n",
              "    .dataframe tbody tr th {\n",
              "        vertical-align: top;\n",
              "    }\n",
              "\n",
              "    .dataframe thead th {\n",
              "        text-align: right;\n",
              "    }\n",
              "</style>\n",
              "<table border=\"1\" class=\"dataframe\">\n",
              "  <thead>\n",
              "    <tr style=\"text-align: right;\">\n",
              "      <th></th>\n",
              "      <th>text</th>\n",
              "      <th>dialect</th>\n",
              "    </tr>\n",
              "  </thead>\n",
              "  <tbody>\n",
              "    <tr>\n",
              "      <th>101717</th>\n",
              "      <td>اهو الفرصة جات لغاية عندكم ... تعالوا زوروا اسوان بقا 😅😊\\n#visit_aswan https://t.co/RE3CXXxKH4</td>\n",
              "      <td>EG</td>\n",
              "    </tr>\n",
              "    <tr>\n",
              "      <th>72799</th>\n",
              "      <td>@Moelnagar11 وممكن تدهنابزيت لو مدخلتش يابن ال......</td>\n",
              "      <td>EG</td>\n",
              "    </tr>\n",
              "    <tr>\n",
              "      <th>127273</th>\n",
              "      <td>@Diaalaaaaaaaaaa ضلك قلن اييي و عمال البدك ياه💃🏼💃🏼</td>\n",
              "      <td>LB</td>\n",
              "    </tr>\n",
              "    <tr>\n",
              "      <th>127250</th>\n",
              "      <td>@MogHussein @JMklbhcfdtui انت شو دخلك؟😂\\nما تحس كتير ما بيسوى</td>\n",
              "      <td>LB</td>\n",
              "    </tr>\n",
              "    <tr>\n",
              "      <th>5641</th>\n",
              "      <td>@bofajuve 😂😂😂😂😂😂😂😂😂😂😂😂😂😂😂😂😂 تو في واحد زعلان علي وحده يقعد يقول فكووو طيري و يلحن فيها انا ضيقلي علمي الفيديو  و الوهم اللي صاير</td>\n",
              "      <td>LY</td>\n",
              "    </tr>\n",
              "    <tr>\n",
              "      <th>23764</th>\n",
              "      <td>@aynoo95 تعيش وتلبس طاقية وين المشكلة!</td>\n",
              "      <td>LY</td>\n",
              "    </tr>\n",
              "    <tr>\n",
              "      <th>124783</th>\n",
              "      <td>@ferialjuhier @ay935 @saadhariri ماحدا منن بيستحي .مين قوى حزب الله وكان يدافع عنه ومنع تهمة الإرهاب عن الحزب غير الشهيد رفيق الحريري .من الاساس كان المفروض يقطعوا رأس الأفعى .بس ماكان عندهم بعد نظر</td>\n",
              "      <td>LB</td>\n",
              "    </tr>\n",
              "    <tr>\n",
              "      <th>95399</th>\n",
              "      <td>وعلى ايه على ايه هنبكى على الماضي\\nايام وعدت ع الفاضي فى ايه هنبكى عليه</td>\n",
              "      <td>EG</td>\n",
              "    </tr>\n",
              "    <tr>\n",
              "      <th>81795</th>\n",
              "      <td>@amira07144149 صباح الحاجات الحلوة أميرة😘 و 'خدى ده عارفه يهمك😉😅👇\\nhttps://t.co/vzx9o55ebq</td>\n",
              "      <td>EG</td>\n",
              "    </tr>\n",
              "    <tr>\n",
              "      <th>42851</th>\n",
              "      <td>@Pssktch متخفشي الوعي الحمد لله مبقاش فحال زمان . ربي يتبتنا على الحق هذا ما نقولو</td>\n",
              "      <td>MA</td>\n",
              "    </tr>\n",
              "    <tr>\n",
              "      <th>5162</th>\n",
              "      <td>@SalemGargom الله يسلمك ياسلومه قريب منك انت راك تغيب عاد❤️</td>\n",
              "      <td>LY</td>\n",
              "    </tr>\n",
              "    <tr>\n",
              "      <th>68224</th>\n",
              "      <td>@MagedFanousMEPh اهه ربنا بيعوض باللعب الحلو ...</td>\n",
              "      <td>EG</td>\n",
              "    </tr>\n",
              "    <tr>\n",
              "      <th>63561</th>\n",
              "      <td>@romagaber2 أنا شكه في كداااا</td>\n",
              "      <td>EG</td>\n",
              "    </tr>\n",
              "    <tr>\n",
              "      <th>83097</th>\n",
              "      <td>@ANAMASRYA1234 @ehab34_antel كدا كدا هما خرفان وكدا كد بيغلطوا فينا وبيقولو علينا رقاصين مش طبالين بس</td>\n",
              "      <td>EG</td>\n",
              "    </tr>\n",
              "    <tr>\n",
              "      <th>52808</th>\n",
              "      <td>ربنا يحميه .. بسم الله ما شاء الله عليه https://t.co/BLNHiUfX7F</td>\n",
              "      <td>EG</td>\n",
              "    </tr>\n",
              "    <tr>\n",
              "      <th>33857</th>\n",
              "      <td>@mahmidkdsl حيي خسارة فاتتني تغريدته هذي 😂😂</td>\n",
              "      <td>LY</td>\n",
              "    </tr>\n",
              "    <tr>\n",
              "      <th>69384</th>\n",
              "      <td>@IIKRII يعنى لوسيڤر ناويها ناويها 😡 ربنا ينتقم منه ويحمى ضيوف الرحمان 🤲🏼</td>\n",
              "      <td>EG</td>\n",
              "    </tr>\n",
              "    <tr>\n",
              "      <th>135892</th>\n",
              "      <td>@Rno_Mrwan @MAlgzouly الشغله دي فيها توريه\\nمعنى قريب ومعنى بعيد 😂😂😂😂😂</td>\n",
              "      <td>SD</td>\n",
              "    </tr>\n",
              "    <tr>\n",
              "      <th>100592</th>\n",
              "      <td>@44ADEL_ABDOU44 حتي لو غلط مين فينا مش بيغلط ويتمني يكون كويس عمل حاجه كويس مش عيب ولا حرام نقله شكرا يارب البشر يتحولوا لانسان</td>\n",
              "      <td>EG</td>\n",
              "    </tr>\n",
              "    <tr>\n",
              "      <th>6720</th>\n",
              "      <td>@samsam_elf الاعاقة جايه منهم الله غالب مش بيدنا😂</td>\n",
              "      <td>LY</td>\n",
              "    </tr>\n",
              "  </tbody>\n",
              "</table>\n",
              "</div>\n",
              "      <button class=\"colab-df-convert\" onclick=\"convertToInteractive('df-5fbd707d-f097-4203-a9ac-881798fb3fc9')\"\n",
              "              title=\"Convert this dataframe to an interactive table.\"\n",
              "              style=\"display:none;\">\n",
              "        \n",
              "  <svg xmlns=\"http://www.w3.org/2000/svg\" height=\"24px\"viewBox=\"0 0 24 24\"\n",
              "       width=\"24px\">\n",
              "    <path d=\"M0 0h24v24H0V0z\" fill=\"none\"/>\n",
              "    <path d=\"M18.56 5.44l.94 2.06.94-2.06 2.06-.94-2.06-.94-.94-2.06-.94 2.06-2.06.94zm-11 1L8.5 8.5l.94-2.06 2.06-.94-2.06-.94L8.5 2.5l-.94 2.06-2.06.94zm10 10l.94 2.06.94-2.06 2.06-.94-2.06-.94-.94-2.06-.94 2.06-2.06.94z\"/><path d=\"M17.41 7.96l-1.37-1.37c-.4-.4-.92-.59-1.43-.59-.52 0-1.04.2-1.43.59L10.3 9.45l-7.72 7.72c-.78.78-.78 2.05 0 2.83L4 21.41c.39.39.9.59 1.41.59.51 0 1.02-.2 1.41-.59l7.78-7.78 2.81-2.81c.8-.78.8-2.07 0-2.86zM5.41 20L4 18.59l7.72-7.72 1.47 1.35L5.41 20z\"/>\n",
              "  </svg>\n",
              "      </button>\n",
              "      \n",
              "  <style>\n",
              "    .colab-df-container {\n",
              "      display:flex;\n",
              "      flex-wrap:wrap;\n",
              "      gap: 12px;\n",
              "    }\n",
              "\n",
              "    .colab-df-convert {\n",
              "      background-color: #E8F0FE;\n",
              "      border: none;\n",
              "      border-radius: 50%;\n",
              "      cursor: pointer;\n",
              "      display: none;\n",
              "      fill: #1967D2;\n",
              "      height: 32px;\n",
              "      padding: 0 0 0 0;\n",
              "      width: 32px;\n",
              "    }\n",
              "\n",
              "    .colab-df-convert:hover {\n",
              "      background-color: #E2EBFA;\n",
              "      box-shadow: 0px 1px 2px rgba(60, 64, 67, 0.3), 0px 1px 3px 1px rgba(60, 64, 67, 0.15);\n",
              "      fill: #174EA6;\n",
              "    }\n",
              "\n",
              "    [theme=dark] .colab-df-convert {\n",
              "      background-color: #3B4455;\n",
              "      fill: #D2E3FC;\n",
              "    }\n",
              "\n",
              "    [theme=dark] .colab-df-convert:hover {\n",
              "      background-color: #434B5C;\n",
              "      box-shadow: 0px 1px 3px 1px rgba(0, 0, 0, 0.15);\n",
              "      filter: drop-shadow(0px 1px 2px rgba(0, 0, 0, 0.3));\n",
              "      fill: #FFFFFF;\n",
              "    }\n",
              "  </style>\n",
              "\n",
              "      <script>\n",
              "        const buttonEl =\n",
              "          document.querySelector('#df-5fbd707d-f097-4203-a9ac-881798fb3fc9 button.colab-df-convert');\n",
              "        buttonEl.style.display =\n",
              "          google.colab.kernel.accessAllowed ? 'block' : 'none';\n",
              "\n",
              "        async function convertToInteractive(key) {\n",
              "          const element = document.querySelector('#df-5fbd707d-f097-4203-a9ac-881798fb3fc9');\n",
              "          const dataTable =\n",
              "            await google.colab.kernel.invokeFunction('convertToInteractive',\n",
              "                                                     [key], {});\n",
              "          if (!dataTable) return;\n",
              "\n",
              "          const docLinkHtml = 'Like what you see? Visit the ' +\n",
              "            '<a target=\"_blank\" href=https://colab.research.google.com/notebooks/data_table.ipynb>data table notebook</a>'\n",
              "            + ' to learn more about interactive tables.';\n",
              "          element.innerHTML = '';\n",
              "          dataTable['output_type'] = 'display_data';\n",
              "          await google.colab.output.renderOutput(dataTable, element);\n",
              "          const docLink = document.createElement('div');\n",
              "          docLink.innerHTML = docLinkHtml;\n",
              "          element.appendChild(docLink);\n",
              "        }\n",
              "      </script>\n",
              "    </div>\n",
              "  </div>\n",
              "  "
            ]
          },
          "metadata": {},
          "execution_count": 12
        }
      ]
    },
    {
      "cell_type": "markdown",
      "source": [
        "Problems detected with the texts:\n",
        "* User Mentions\n",
        "* URLs\n",
        "* Hashtags\n",
        "* Emojis\n",
        "* English Words\n",
        "* Stop Words\n",
        "* Normalize Text\n",
        "* Diacritics\n",
        "* Repeated Characters\n",
        "* Extra White Space\n",
        "* Numbers"
      ],
      "metadata": {
        "id": "EQ-991WLq9Ca"
      }
    },
    {
      "cell_type": "markdown",
      "source": [
        "# Data Pre-processing"
      ],
      "metadata": {
        "id": "dkuCecHOrmWs"
      }
    },
    {
      "cell_type": "code",
      "source": [
        "def remove_user_mention(text):\n",
        "  return re.sub('@[^\\s]+', '', text)"
      ],
      "metadata": {
        "id": "eDHhNAEPqx-l"
      },
      "execution_count": null,
      "outputs": []
    },
    {
      "cell_type": "code",
      "source": [
        "def remove_url(text):\n",
        "  return re.sub('http\\S+|www\\S+', '', text)"
      ],
      "metadata": {
        "id": "9WSXq9eir9Mk"
      },
      "execution_count": null,
      "outputs": []
    },
    {
      "cell_type": "code",
      "source": [
        "def remove_hashtag(text):\n",
        "  return re.sub('#\\w+', '', text)"
      ],
      "metadata": {
        "id": "ObBORgHKsffG"
      },
      "execution_count": null,
      "outputs": []
    },
    {
      "cell_type": "code",
      "source": [
        "def remove_english_chars(text):\n",
        "    english_chars_pattern = re.compile(r'[a-zA-Z]')\n",
        "    cleaned_text = english_chars_pattern.sub('', text)\n",
        "    return cleaned_text"
      ],
      "metadata": {
        "id": "hMZ63dvhwRDR"
      },
      "execution_count": null,
      "outputs": []
    },
    {
      "cell_type": "code",
      "source": [
        "def normalize_text(text):\n",
        "  text = re.sub('[ى]', 'ي', text)\n",
        "  text = re.sub('[إأٱآا]', 'ا', text)\n",
        "  text = re.sub('[ؤئ]', 'ء', text)\n",
        "  text = re.sub('[ة]', 'ه', text)\n",
        "  text = re.sub('گ', 'ك', text)\n",
        "  text = re.sub(r'(.)\\1+', r'\\1', text) # remove repeated characters 'هههههه', 'جوول'\n",
        "  return text"
      ],
      "metadata": {
        "id": "jEEd3ONb1zDH"
      },
      "execution_count": null,
      "outputs": []
    },
    {
      "cell_type": "code",
      "source": [
        "def remove_diacritics(text):\n",
        "    arabic_diacritics = re.compile('''\n",
        "                 ّ    | # Tashdid\n",
        "                 َ    | # Fatha\n",
        "                 ً    | # Tanwin Fath\n",
        "                 ُ    | # Damma\n",
        "                 ٌ    | # Tanwin Damm\n",
        "                 ِ    | # Kasra\n",
        "                 ٍ    | # Tanwin Kasr\n",
        "                 ْ    | # Sukun\n",
        "                 ـ     # Tatwil/Kashida\n",
        "             ''', re.VERBOSE)\n",
        "    return re.sub(arabic_diacritics, '', text)"
      ],
      "metadata": {
        "id": "EhwiWP3J20e5"
      },
      "execution_count": null,
      "outputs": []
    },
    {
      "cell_type": "code",
      "source": [
        "def remove_arabic_stopwords(text):\n",
        "    stop_words = set(stopwords.words('arabic'))\n",
        "    \n",
        "    tokens = text.split()\n",
        "    \n",
        "    tokens = [word for word in tokens if not word in stop_words]\n",
        "    \n",
        "    \n",
        "    text = \" \".join(tokens)\n",
        "    \n",
        "    return text"
      ],
      "metadata": {
        "id": "5g3AcSF930DG"
      },
      "execution_count": null,
      "outputs": []
    },
    {
      "cell_type": "code",
      "source": [
        "def remove_numbers(text):\n",
        "    \"\"\"\n",
        "    Removes arabic and english numbers from text\n",
        "    \"\"\"\n",
        "    # Remove English numbers\n",
        "    text = re.sub(r'[\\d]', '', text)\n",
        "\n",
        "    # Remove Arabic numbers\n",
        "    text = re.sub('١|٠|٢|٣|٤|٥|٦|٧|٨|٩', '', text)\n",
        "    return text"
      ],
      "metadata": {
        "id": "VAD3vpS95LpE"
      },
      "execution_count": null,
      "outputs": []
    },
    {
      "cell_type": "code",
      "source": [
        "import regex\n",
        "\n",
        "def remove_emojis(text):\n",
        "    # define a regex pattern to match all emojis\n",
        "    emoji_pattern = regex.compile('[\\p{Emoji}]')\n",
        "    # substitute emojis with an empty string\n",
        "    cleaned_text = emoji_pattern.sub(\"\", text)\n",
        "    return cleaned_text"
      ],
      "metadata": {
        "id": "58A5i1vCs2Oq"
      },
      "execution_count": null,
      "outputs": []
    },
    {
      "cell_type": "code",
      "source": [
        "def remove_newlines_and_tabs(text):\n",
        "    cleaned_text = text.replace('\\n', '').replace('\\t', '')\n",
        "    return cleaned_text"
      ],
      "metadata": {
        "id": "YvYblqFPuM2U"
      },
      "execution_count": null,
      "outputs": []
    },
    {
      "cell_type": "code",
      "source": [
        "def remove_extra_spaces(text):\n",
        "    words = text.split()\n",
        "    cleaned_text = ' '.join(words)\n",
        "    return cleaned_text"
      ],
      "metadata": {
        "id": "cMYT5qB6uZtc"
      },
      "execution_count": null,
      "outputs": []
    },
    {
      "cell_type": "code",
      "source": [
        "import string\n",
        "def remove_punctuation(text):\n",
        "    translator = str.maketrans('', '', string.punctuation)\n",
        "    text = text.translate(translator)\n",
        "    text = re.sub(r'[^\\w\\s]', '', text)\n",
        "    return text"
      ],
      "metadata": {
        "id": "kbM_CmHqvtrb"
      },
      "execution_count": null,
      "outputs": []
    },
    {
      "cell_type": "code",
      "source": [
        "def pre_process_text(text):\n",
        "  text = remove_user_mention(text)\n",
        "  text = remove_url(text)\n",
        "  text = remove_hashtag(text)\n",
        "  text = remove_english_chars(text)\n",
        "  text = normalize_text(text)\n",
        "  text = remove_diacritics(text)\n",
        "  text = remove_arabic_stopwords(text)\n",
        "  text = remove_numbers(text)\n",
        "  text = remove_emojis(text)\n",
        "  text = remove_newlines_and_tabs(text)\n",
        "  text = remove_punctuation(text)\n",
        "  text = remove_extra_spaces(text)\n",
        "  return text"
      ],
      "metadata": {
        "id": "o-0W-2CctONM"
      },
      "execution_count": null,
      "outputs": []
    },
    {
      "cell_type": "code",
      "source": [
        "data_processed = data.copy()"
      ],
      "metadata": {
        "id": "54LVNbFZvgkJ"
      },
      "execution_count": null,
      "outputs": []
    },
    {
      "cell_type": "code",
      "source": [
        "data_processed['text'] = data['text'].apply(pre_process_text)"
      ],
      "metadata": {
        "id": "kYmZUjnXvUW1"
      },
      "execution_count": null,
      "outputs": []
    },
    {
      "cell_type": "code",
      "source": [
        "data_processed.sample(20)"
      ],
      "metadata": {
        "colab": {
          "base_uri": "https://localhost:8080/",
          "height": 738
        },
        "id": "jcUCtQgQvZn8",
        "outputId": "907114ef-6be1-4ef5-d076-618f539b72e3"
      },
      "execution_count": null,
      "outputs": [
        {
          "output_type": "execute_result",
          "data": {
            "text/plain": [
              "                                                                                                                                                                                                      text  \\\n",
              "132484                                                                            ميشال سليمان عم يتفلسف ويحكي علي الي بالجامعه بنقولو حدا معبرك احسن الك خلي ارءك الخشبيه بخزانتك لانو انت ورايك الو قيمه   \n",
              "119985                                                                                                                                                                      لحظه فايت شوفك اذا عاملها فولو   \n",
              "98177   القانون يسري علي مستحق المعاش المستحق الاصلي اقراه كويس وبرضه معترض علي ده يعني ارمله بتاخد معاش جوزها ومش مكفي المعيشه والاولاد وحبت تشتغل خياطه مثلا علشان تساعد يتوقف المعاش حاجه مش ادميه اصلا   \n",
              "93358                                                                                                                                                                         ده حاليا سينما ماحدش بيروحها   \n",
              "38391                                                                                                                                                انا عمل ليها بلوك فينما يطلع ليا شي كونت ديالها نطيرو   \n",
              "67894                                                                                                                                               دول حراميه سنين مني يخلصوا ازاي لازم تجيبي المنبع اولا   \n",
              "183                                                                                                                                                                           متقوليليش جايه وايديك فاضيات   \n",
              "70346                                                                                                                                                      حاجات كتير الواحد مش قادر يكتبها ربنا حليم ستار   \n",
              "31459                                                                                                                                          يحق لسكان الوادي يحق لغيرهم بعدين انت جماعه الارجاسنين ملام   \n",
              "22422                                                                                                                                                                 الي بيشري عقارات اسطنبول ارخص طرابلس   \n",
              "72557                                                                                                                                                            مسيرالغايب يعاود اصعب انواع المرار واقساه   \n",
              "57039                                                                                                                                                          تاني واحده تقول الجواز الرجاله بتعذبكوا ايه   \n",
              "65766                                                                                                                             الي عمل الصوره دي قوله مينفعش تخلي ميسي اخر مش المقدمه والبقيه تاتي خلفه   \n",
              "69616                                                                                                                                                                                   دي ناس مالهاش امان   \n",
              "146563                                                                                                   عليكم انشاء اله ثقيله وعلا قطر برد وسلامه وانا مقيم بدوحه تميم العز واله يكيد كيد الكايدين نحورهم   \n",
              "98932                                                                                                                                       الراجل ده مش عيلتي حتي اعرفه حاله انسانيه مكن اي حد يبقي مكانه   \n",
              "137672                                                                                                                                                    ده كلب ابن كلب والطيبه الذايده دي خلاص لازم تنسي   \n",
              "35882                                                                                                                                                                                   اكيد مكرهاته عيشته   \n",
              "34241                                                                                                                                                 عيونك الحلوين مرومه واله يسلمك والهم امين واياك يارب   \n",
              "91270                                                                                                  متستغربش الناس الي بتدي نصايح وهما اكتر ناس محتاجينها سيدنا يوسف بيفسر الرءي ومكنش عارف تفسير رءيته   \n",
              "\n",
              "       dialect  \n",
              "132484      LB  \n",
              "119985      LB  \n",
              "98177       EG  \n",
              "93358       EG  \n",
              "38391       MA  \n",
              "67894       EG  \n",
              "183         LY  \n",
              "70346       EG  \n",
              "31459       LY  \n",
              "22422       LY  \n",
              "72557       EG  \n",
              "57039       EG  \n",
              "65766       EG  \n",
              "69616       EG  \n",
              "146563      SD  \n",
              "98932       EG  \n",
              "137672      SD  \n",
              "35882       LY  \n",
              "34241       LY  \n",
              "91270       EG  "
            ],
            "text/html": [
              "\n",
              "  <div id=\"df-707802e2-7ad4-4e5c-b001-8ed485d288cd\">\n",
              "    <div class=\"colab-df-container\">\n",
              "      <div>\n",
              "<style scoped>\n",
              "    .dataframe tbody tr th:only-of-type {\n",
              "        vertical-align: middle;\n",
              "    }\n",
              "\n",
              "    .dataframe tbody tr th {\n",
              "        vertical-align: top;\n",
              "    }\n",
              "\n",
              "    .dataframe thead th {\n",
              "        text-align: right;\n",
              "    }\n",
              "</style>\n",
              "<table border=\"1\" class=\"dataframe\">\n",
              "  <thead>\n",
              "    <tr style=\"text-align: right;\">\n",
              "      <th></th>\n",
              "      <th>text</th>\n",
              "      <th>dialect</th>\n",
              "    </tr>\n",
              "  </thead>\n",
              "  <tbody>\n",
              "    <tr>\n",
              "      <th>132484</th>\n",
              "      <td>ميشال سليمان عم يتفلسف ويحكي علي الي بالجامعه بنقولو حدا معبرك احسن الك خلي ارءك الخشبيه بخزانتك لانو انت ورايك الو قيمه</td>\n",
              "      <td>LB</td>\n",
              "    </tr>\n",
              "    <tr>\n",
              "      <th>119985</th>\n",
              "      <td>لحظه فايت شوفك اذا عاملها فولو</td>\n",
              "      <td>LB</td>\n",
              "    </tr>\n",
              "    <tr>\n",
              "      <th>98177</th>\n",
              "      <td>القانون يسري علي مستحق المعاش المستحق الاصلي اقراه كويس وبرضه معترض علي ده يعني ارمله بتاخد معاش جوزها ومش مكفي المعيشه والاولاد وحبت تشتغل خياطه مثلا علشان تساعد يتوقف المعاش حاجه مش ادميه اصلا</td>\n",
              "      <td>EG</td>\n",
              "    </tr>\n",
              "    <tr>\n",
              "      <th>93358</th>\n",
              "      <td>ده حاليا سينما ماحدش بيروحها</td>\n",
              "      <td>EG</td>\n",
              "    </tr>\n",
              "    <tr>\n",
              "      <th>38391</th>\n",
              "      <td>انا عمل ليها بلوك فينما يطلع ليا شي كونت ديالها نطيرو</td>\n",
              "      <td>MA</td>\n",
              "    </tr>\n",
              "    <tr>\n",
              "      <th>67894</th>\n",
              "      <td>دول حراميه سنين مني يخلصوا ازاي لازم تجيبي المنبع اولا</td>\n",
              "      <td>EG</td>\n",
              "    </tr>\n",
              "    <tr>\n",
              "      <th>183</th>\n",
              "      <td>متقوليليش جايه وايديك فاضيات</td>\n",
              "      <td>LY</td>\n",
              "    </tr>\n",
              "    <tr>\n",
              "      <th>70346</th>\n",
              "      <td>حاجات كتير الواحد مش قادر يكتبها ربنا حليم ستار</td>\n",
              "      <td>EG</td>\n",
              "    </tr>\n",
              "    <tr>\n",
              "      <th>31459</th>\n",
              "      <td>يحق لسكان الوادي يحق لغيرهم بعدين انت جماعه الارجاسنين ملام</td>\n",
              "      <td>LY</td>\n",
              "    </tr>\n",
              "    <tr>\n",
              "      <th>22422</th>\n",
              "      <td>الي بيشري عقارات اسطنبول ارخص طرابلس</td>\n",
              "      <td>LY</td>\n",
              "    </tr>\n",
              "    <tr>\n",
              "      <th>72557</th>\n",
              "      <td>مسيرالغايب يعاود اصعب انواع المرار واقساه</td>\n",
              "      <td>EG</td>\n",
              "    </tr>\n",
              "    <tr>\n",
              "      <th>57039</th>\n",
              "      <td>تاني واحده تقول الجواز الرجاله بتعذبكوا ايه</td>\n",
              "      <td>EG</td>\n",
              "    </tr>\n",
              "    <tr>\n",
              "      <th>65766</th>\n",
              "      <td>الي عمل الصوره دي قوله مينفعش تخلي ميسي اخر مش المقدمه والبقيه تاتي خلفه</td>\n",
              "      <td>EG</td>\n",
              "    </tr>\n",
              "    <tr>\n",
              "      <th>69616</th>\n",
              "      <td>دي ناس مالهاش امان</td>\n",
              "      <td>EG</td>\n",
              "    </tr>\n",
              "    <tr>\n",
              "      <th>146563</th>\n",
              "      <td>عليكم انشاء اله ثقيله وعلا قطر برد وسلامه وانا مقيم بدوحه تميم العز واله يكيد كيد الكايدين نحورهم</td>\n",
              "      <td>SD</td>\n",
              "    </tr>\n",
              "    <tr>\n",
              "      <th>98932</th>\n",
              "      <td>الراجل ده مش عيلتي حتي اعرفه حاله انسانيه مكن اي حد يبقي مكانه</td>\n",
              "      <td>EG</td>\n",
              "    </tr>\n",
              "    <tr>\n",
              "      <th>137672</th>\n",
              "      <td>ده كلب ابن كلب والطيبه الذايده دي خلاص لازم تنسي</td>\n",
              "      <td>SD</td>\n",
              "    </tr>\n",
              "    <tr>\n",
              "      <th>35882</th>\n",
              "      <td>اكيد مكرهاته عيشته</td>\n",
              "      <td>LY</td>\n",
              "    </tr>\n",
              "    <tr>\n",
              "      <th>34241</th>\n",
              "      <td>عيونك الحلوين مرومه واله يسلمك والهم امين واياك يارب</td>\n",
              "      <td>LY</td>\n",
              "    </tr>\n",
              "    <tr>\n",
              "      <th>91270</th>\n",
              "      <td>متستغربش الناس الي بتدي نصايح وهما اكتر ناس محتاجينها سيدنا يوسف بيفسر الرءي ومكنش عارف تفسير رءيته</td>\n",
              "      <td>EG</td>\n",
              "    </tr>\n",
              "  </tbody>\n",
              "</table>\n",
              "</div>\n",
              "      <button class=\"colab-df-convert\" onclick=\"convertToInteractive('df-707802e2-7ad4-4e5c-b001-8ed485d288cd')\"\n",
              "              title=\"Convert this dataframe to an interactive table.\"\n",
              "              style=\"display:none;\">\n",
              "        \n",
              "  <svg xmlns=\"http://www.w3.org/2000/svg\" height=\"24px\"viewBox=\"0 0 24 24\"\n",
              "       width=\"24px\">\n",
              "    <path d=\"M0 0h24v24H0V0z\" fill=\"none\"/>\n",
              "    <path d=\"M18.56 5.44l.94 2.06.94-2.06 2.06-.94-2.06-.94-.94-2.06-.94 2.06-2.06.94zm-11 1L8.5 8.5l.94-2.06 2.06-.94-2.06-.94L8.5 2.5l-.94 2.06-2.06.94zm10 10l.94 2.06.94-2.06 2.06-.94-2.06-.94-.94-2.06-.94 2.06-2.06.94z\"/><path d=\"M17.41 7.96l-1.37-1.37c-.4-.4-.92-.59-1.43-.59-.52 0-1.04.2-1.43.59L10.3 9.45l-7.72 7.72c-.78.78-.78 2.05 0 2.83L4 21.41c.39.39.9.59 1.41.59.51 0 1.02-.2 1.41-.59l7.78-7.78 2.81-2.81c.8-.78.8-2.07 0-2.86zM5.41 20L4 18.59l7.72-7.72 1.47 1.35L5.41 20z\"/>\n",
              "  </svg>\n",
              "      </button>\n",
              "      \n",
              "  <style>\n",
              "    .colab-df-container {\n",
              "      display:flex;\n",
              "      flex-wrap:wrap;\n",
              "      gap: 12px;\n",
              "    }\n",
              "\n",
              "    .colab-df-convert {\n",
              "      background-color: #E8F0FE;\n",
              "      border: none;\n",
              "      border-radius: 50%;\n",
              "      cursor: pointer;\n",
              "      display: none;\n",
              "      fill: #1967D2;\n",
              "      height: 32px;\n",
              "      padding: 0 0 0 0;\n",
              "      width: 32px;\n",
              "    }\n",
              "\n",
              "    .colab-df-convert:hover {\n",
              "      background-color: #E2EBFA;\n",
              "      box-shadow: 0px 1px 2px rgba(60, 64, 67, 0.3), 0px 1px 3px 1px rgba(60, 64, 67, 0.15);\n",
              "      fill: #174EA6;\n",
              "    }\n",
              "\n",
              "    [theme=dark] .colab-df-convert {\n",
              "      background-color: #3B4455;\n",
              "      fill: #D2E3FC;\n",
              "    }\n",
              "\n",
              "    [theme=dark] .colab-df-convert:hover {\n",
              "      background-color: #434B5C;\n",
              "      box-shadow: 0px 1px 3px 1px rgba(0, 0, 0, 0.15);\n",
              "      filter: drop-shadow(0px 1px 2px rgba(0, 0, 0, 0.3));\n",
              "      fill: #FFFFFF;\n",
              "    }\n",
              "  </style>\n",
              "\n",
              "      <script>\n",
              "        const buttonEl =\n",
              "          document.querySelector('#df-707802e2-7ad4-4e5c-b001-8ed485d288cd button.colab-df-convert');\n",
              "        buttonEl.style.display =\n",
              "          google.colab.kernel.accessAllowed ? 'block' : 'none';\n",
              "\n",
              "        async function convertToInteractive(key) {\n",
              "          const element = document.querySelector('#df-707802e2-7ad4-4e5c-b001-8ed485d288cd');\n",
              "          const dataTable =\n",
              "            await google.colab.kernel.invokeFunction('convertToInteractive',\n",
              "                                                     [key], {});\n",
              "          if (!dataTable) return;\n",
              "\n",
              "          const docLinkHtml = 'Like what you see? Visit the ' +\n",
              "            '<a target=\"_blank\" href=https://colab.research.google.com/notebooks/data_table.ipynb>data table notebook</a>'\n",
              "            + ' to learn more about interactive tables.';\n",
              "          element.innerHTML = '';\n",
              "          dataTable['output_type'] = 'display_data';\n",
              "          await google.colab.output.renderOutput(dataTable, element);\n",
              "          const docLink = document.createElement('div');\n",
              "          docLink.innerHTML = docLinkHtml;\n",
              "          element.appendChild(docLink);\n",
              "        }\n",
              "      </script>\n",
              "    </div>\n",
              "  </div>\n",
              "  "
            ]
          },
          "metadata": {},
          "execution_count": 107
        }
      ]
    },
    {
      "cell_type": "code",
      "source": [
        "# Encode 'dialect'\n",
        "dialect_map = {\n",
        "    'EG': 0,\n",
        "    'LY': 1,\n",
        "    'LB': 2,\n",
        "    'SD': 3,\n",
        "    'MA': 4\n",
        "}\n",
        "data_processed['dialect'] = data_processed['dialect'].replace(dialect_map)"
      ],
      "metadata": {
        "id": "M1IGqfn21Ccg"
      },
      "execution_count": null,
      "outputs": []
    },
    {
      "cell_type": "code",
      "source": [
        "data_processed.to_csv('data_processed.csv', index=False)"
      ],
      "metadata": {
        "id": "6Kr4VZ2TFV5K"
      },
      "execution_count": null,
      "outputs": []
    }
  ]
}