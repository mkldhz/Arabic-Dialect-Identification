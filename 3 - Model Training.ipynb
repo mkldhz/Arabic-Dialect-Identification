{
  "nbformat": 4,
  "nbformat_minor": 0,
  "metadata": {
    "colab": {
      "provenance": [],
      "collapsed_sections": [
        "oEz9F8NPMGoR",
        "JamrP81iOwSQ",
        "-ZEnDD4itHdM",
        "QVao27C4uq25",
        "oQmVVpO9LWxE"
      ]
    },
    "kernelspec": {
      "name": "python3",
      "display_name": "Python 3"
    },
    "language_info": {
      "name": "python"
    },
    "gpuClass": "standard",
    "accelerator": "GPU"
  },
  "cells": [
    {
      "cell_type": "code",
      "execution_count": 23,
      "metadata": {
        "id": "SwgupQqSDR0y"
      },
      "outputs": [],
      "source": [
        "import pandas as pd\n",
        "import numpy as np\n",
        "import matplotlib.pyplot as plt\n",
        "import seaborn as sns\n",
        "\n",
        "\n",
        "import tensorflow as tf\n",
        "from tensorflow.keras.utils import to_categorical\n",
        "\n",
        "from tensorflow.keras.models import Sequential\n",
        "from tensorflow.keras.layers import Embedding, LSTM, Dense, SimpleRNN\n",
        "from tensorflow.keras.preprocessing.text import Tokenizer\n",
        "from tensorflow.keras.preprocessing.sequence import pad_sequences\n",
        "\n",
        "from sklearn.feature_extraction.text import CountVectorizer, TfidfVectorizer\n",
        "\n",
        "from sklearn.linear_model import LogisticRegression\n",
        "from sklearn.naive_bayes import MultinomialNB\n",
        "from sklearn.ensemble import RandomForestClassifier\n",
        "\n",
        "from sklearn.model_selection import train_test_split\n",
        "from sklearn.metrics import confusion_matrix, classification_report, accuracy_score\n",
        "from tensorflow.keras.callbacks import EarlyStopping, ModelCheckpoint\n",
        "\n",
        "import pickle"
      ]
    },
    {
      "cell_type": "code",
      "source": [
        "import warnings\n",
        "warnings.filterwarnings('ignore')"
      ],
      "metadata": {
        "id": "3QI66oBkP9OF"
      },
      "execution_count": 2,
      "outputs": []
    },
    {
      "cell_type": "code",
      "source": [
        "pd.set_option('display.max_colwidth', 1500)"
      ],
      "metadata": {
        "id": "Z5ot9hxdKKQ-"
      },
      "execution_count": 3,
      "outputs": []
    },
    {
      "cell_type": "markdown",
      "source": [
        "# Load Processed Data"
      ],
      "metadata": {
        "id": "c12cOD5AJ7l3"
      }
    },
    {
      "cell_type": "code",
      "source": [
        "data = pd.read_csv('data_processed.csv')"
      ],
      "metadata": {
        "id": "xKh0dveyJ67a"
      },
      "execution_count": 10,
      "outputs": []
    },
    {
      "cell_type": "code",
      "source": [
        "data.dropna(inplace=True)"
      ],
      "metadata": {
        "id": "0NNvqYbMKFsp"
      },
      "execution_count": 11,
      "outputs": []
    },
    {
      "cell_type": "code",
      "source": [
        "data.isna().sum()"
      ],
      "metadata": {
        "colab": {
          "base_uri": "https://localhost:8080/"
        },
        "id": "pVzMC7qDKelF",
        "outputId": "1e4ab6e0-7458-4813-9737-c2da0e3bd0fc"
      },
      "execution_count": 12,
      "outputs": [
        {
          "output_type": "execute_result",
          "data": {
            "text/plain": [
              "text       0\n",
              "dialect    0\n",
              "dtype: int64"
            ]
          },
          "metadata": {},
          "execution_count": 12
        }
      ]
    },
    {
      "cell_type": "code",
      "source": [
        "data.drop_duplicates(inplace=True)"
      ],
      "metadata": {
        "id": "X0tx3n-XLAMl"
      },
      "execution_count": 13,
      "outputs": []
    },
    {
      "cell_type": "code",
      "source": [
        "data.duplicated().sum()"
      ],
      "metadata": {
        "colab": {
          "base_uri": "https://localhost:8080/"
        },
        "id": "lpmnU7t4LJko",
        "outputId": "ff8c3b56-75d6-4397-b87d-c249cb92bb55"
      },
      "execution_count": 14,
      "outputs": [
        {
          "output_type": "execute_result",
          "data": {
            "text/plain": [
              "0"
            ]
          },
          "metadata": {},
          "execution_count": 14
        }
      ]
    },
    {
      "cell_type": "code",
      "source": [
        "data.sample(20)"
      ],
      "metadata": {
        "colab": {
          "base_uri": "https://localhost:8080/",
          "height": 755
        },
        "id": "cSfLdUR4LQEH",
        "outputId": "5bfe3e80-6c5c-4d3d-be80-ce3b13adc5a9"
      },
      "execution_count": null,
      "outputs": [
        {
          "output_type": "execute_result",
          "data": {
            "text/plain": [
              "                                                                                                                                                                                                                              text  \\\n",
              "18292                                                                                                                                                                                                                   مصر جو قوي   \n",
              "30102                                                                                                                                                                                                         مش كره اخ واله انتهي   \n",
              "48283                                                                                                                                                                                                        هيكون تقرير مرءي جميل   \n",
              "143595                                                                                     السيده نيكولا كتر خيره بتفهم الناس زي الطلبه قبيل قلنا عامل الوقت والحكومه لسه ماقعدو زي الناس نطو لينا رقبتنا اها الكلام قالتوا السيده   \n",
              "74105                                                                                                                                                                                                            السخنه عارفه حاجه   \n",
              "62707   مش هتجوز مجنون مطرقع نسافر سوا الفجر فجاه عشان عايزين نقعد عالبحر يخليني اجرب الحشيش البيره نعيش بساطه تلقاءيه نفضل صغيرين نكبر نتجن اكتر مش هقبل بالروتين ولا بجواز صالونات ولا بحد يخفي الطفل التلقاءيه الي جوايا مستحيل   \n",
              "144148                                                                                                                                                                                              الناس شغاله فضايح وثوره اتسرقت   \n",
              "135374                                                                     مقفول الساعه رفيده لانهم عاملين محطه ابو جنزير زي نقطه تجمع لامنجيه وبجيبوا المعتقلين ويقعدوهم الارض واليله معتقلين اكتر شخص قادرين نصلهم او نعرف خبرهم   \n",
              "18828                                                                                                                                                                                                  جوك وافتح البنانيه وقول هاح   \n",
              "114414                                                                                                                                                                                           الهاك بالسلاح وكل الفرق معها سلاح   \n",
              "116052                                                                                                                                                                                           حدا راحت عندو الجديد وال عنا راحت   \n",
              "101669                                                                                                                                                                                               اله يرحمك وليد الشريف ولد عاق   \n",
              "25632                                                                                                                                                                            رقيت الدولار احتمال يحطوه فزوات زي الزيتون يبيعوه   \n",
              "124111                                                                                                                                                                                          جماعه كانو شايف هازارد انا عم بحلم   \n",
              "81624           اتفق وبفرض حسن النوايا ومفيش اي مصالح شخصيه ده الي بيغير بيته او شقته بيفكر ويحسبها اكتر كده مش هوجه واستخفاف بمصير بلد ومش باقول فالامكان ابدع فكل خطوه فكر فالعيوب الميزات الي لسه فالهواء ومجرد كلام اغراء وجذب   \n",
              "14074                                                                                                                                                    انه هالموسم موسم فك النحس علي كلوب وساري خوفي ميسي يفك نحسه ويفوز بالكوبا   \n",
              "67104                                                                                                                                                                                                              برسيم اصفر شويه   \n",
              "45776                                                                                                                                                دا بقول عليكم انكم جهله زبالين لسه بتقول صاحب مبادء انتو كدا عديتو صقف الحمير   \n",
              "39113                                                                                                                             شي معرض دولي لكتاب فقطر دايرين رواق خاص بالمغرب هادي يومين خاوي كايصوط الريح ختارعو شي كتب مرءيه   \n",
              "4913                                                                                                                                                                                                   الفضيحه ياخذها ميسي الجاءزه   \n",
              "\n",
              "        dialect  \n",
              "18292         1  \n",
              "30102         1  \n",
              "48283         0  \n",
              "143595        3  \n",
              "74105         0  \n",
              "62707         0  \n",
              "144148        3  \n",
              "135374        3  \n",
              "18828         1  \n",
              "114414        2  \n",
              "116052        2  \n",
              "101669        0  \n",
              "25632         1  \n",
              "124111        2  \n",
              "81624         0  \n",
              "14074         1  \n",
              "67104         0  \n",
              "45776         4  \n",
              "39113         4  \n",
              "4913          1  "
            ],
            "text/html": [
              "\n",
              "  <div id=\"df-5766ba44-3d73-48f4-9d52-07991c1660d4\">\n",
              "    <div class=\"colab-df-container\">\n",
              "      <div>\n",
              "<style scoped>\n",
              "    .dataframe tbody tr th:only-of-type {\n",
              "        vertical-align: middle;\n",
              "    }\n",
              "\n",
              "    .dataframe tbody tr th {\n",
              "        vertical-align: top;\n",
              "    }\n",
              "\n",
              "    .dataframe thead th {\n",
              "        text-align: right;\n",
              "    }\n",
              "</style>\n",
              "<table border=\"1\" class=\"dataframe\">\n",
              "  <thead>\n",
              "    <tr style=\"text-align: right;\">\n",
              "      <th></th>\n",
              "      <th>text</th>\n",
              "      <th>dialect</th>\n",
              "    </tr>\n",
              "  </thead>\n",
              "  <tbody>\n",
              "    <tr>\n",
              "      <th>18292</th>\n",
              "      <td>مصر جو قوي</td>\n",
              "      <td>1</td>\n",
              "    </tr>\n",
              "    <tr>\n",
              "      <th>30102</th>\n",
              "      <td>مش كره اخ واله انتهي</td>\n",
              "      <td>1</td>\n",
              "    </tr>\n",
              "    <tr>\n",
              "      <th>48283</th>\n",
              "      <td>هيكون تقرير مرءي جميل</td>\n",
              "      <td>0</td>\n",
              "    </tr>\n",
              "    <tr>\n",
              "      <th>143595</th>\n",
              "      <td>السيده نيكولا كتر خيره بتفهم الناس زي الطلبه قبيل قلنا عامل الوقت والحكومه لسه ماقعدو زي الناس نطو لينا رقبتنا اها الكلام قالتوا السيده</td>\n",
              "      <td>3</td>\n",
              "    </tr>\n",
              "    <tr>\n",
              "      <th>74105</th>\n",
              "      <td>السخنه عارفه حاجه</td>\n",
              "      <td>0</td>\n",
              "    </tr>\n",
              "    <tr>\n",
              "      <th>62707</th>\n",
              "      <td>مش هتجوز مجنون مطرقع نسافر سوا الفجر فجاه عشان عايزين نقعد عالبحر يخليني اجرب الحشيش البيره نعيش بساطه تلقاءيه نفضل صغيرين نكبر نتجن اكتر مش هقبل بالروتين ولا بجواز صالونات ولا بحد يخفي الطفل التلقاءيه الي جوايا مستحيل</td>\n",
              "      <td>0</td>\n",
              "    </tr>\n",
              "    <tr>\n",
              "      <th>144148</th>\n",
              "      <td>الناس شغاله فضايح وثوره اتسرقت</td>\n",
              "      <td>3</td>\n",
              "    </tr>\n",
              "    <tr>\n",
              "      <th>135374</th>\n",
              "      <td>مقفول الساعه رفيده لانهم عاملين محطه ابو جنزير زي نقطه تجمع لامنجيه وبجيبوا المعتقلين ويقعدوهم الارض واليله معتقلين اكتر شخص قادرين نصلهم او نعرف خبرهم</td>\n",
              "      <td>3</td>\n",
              "    </tr>\n",
              "    <tr>\n",
              "      <th>18828</th>\n",
              "      <td>جوك وافتح البنانيه وقول هاح</td>\n",
              "      <td>1</td>\n",
              "    </tr>\n",
              "    <tr>\n",
              "      <th>114414</th>\n",
              "      <td>الهاك بالسلاح وكل الفرق معها سلاح</td>\n",
              "      <td>2</td>\n",
              "    </tr>\n",
              "    <tr>\n",
              "      <th>116052</th>\n",
              "      <td>حدا راحت عندو الجديد وال عنا راحت</td>\n",
              "      <td>2</td>\n",
              "    </tr>\n",
              "    <tr>\n",
              "      <th>101669</th>\n",
              "      <td>اله يرحمك وليد الشريف ولد عاق</td>\n",
              "      <td>0</td>\n",
              "    </tr>\n",
              "    <tr>\n",
              "      <th>25632</th>\n",
              "      <td>رقيت الدولار احتمال يحطوه فزوات زي الزيتون يبيعوه</td>\n",
              "      <td>1</td>\n",
              "    </tr>\n",
              "    <tr>\n",
              "      <th>124111</th>\n",
              "      <td>جماعه كانو شايف هازارد انا عم بحلم</td>\n",
              "      <td>2</td>\n",
              "    </tr>\n",
              "    <tr>\n",
              "      <th>81624</th>\n",
              "      <td>اتفق وبفرض حسن النوايا ومفيش اي مصالح شخصيه ده الي بيغير بيته او شقته بيفكر ويحسبها اكتر كده مش هوجه واستخفاف بمصير بلد ومش باقول فالامكان ابدع فكل خطوه فكر فالعيوب الميزات الي لسه فالهواء ومجرد كلام اغراء وجذب</td>\n",
              "      <td>0</td>\n",
              "    </tr>\n",
              "    <tr>\n",
              "      <th>14074</th>\n",
              "      <td>انه هالموسم موسم فك النحس علي كلوب وساري خوفي ميسي يفك نحسه ويفوز بالكوبا</td>\n",
              "      <td>1</td>\n",
              "    </tr>\n",
              "    <tr>\n",
              "      <th>67104</th>\n",
              "      <td>برسيم اصفر شويه</td>\n",
              "      <td>0</td>\n",
              "    </tr>\n",
              "    <tr>\n",
              "      <th>45776</th>\n",
              "      <td>دا بقول عليكم انكم جهله زبالين لسه بتقول صاحب مبادء انتو كدا عديتو صقف الحمير</td>\n",
              "      <td>4</td>\n",
              "    </tr>\n",
              "    <tr>\n",
              "      <th>39113</th>\n",
              "      <td>شي معرض دولي لكتاب فقطر دايرين رواق خاص بالمغرب هادي يومين خاوي كايصوط الريح ختارعو شي كتب مرءيه</td>\n",
              "      <td>4</td>\n",
              "    </tr>\n",
              "    <tr>\n",
              "      <th>4913</th>\n",
              "      <td>الفضيحه ياخذها ميسي الجاءزه</td>\n",
              "      <td>1</td>\n",
              "    </tr>\n",
              "  </tbody>\n",
              "</table>\n",
              "</div>\n",
              "      <button class=\"colab-df-convert\" onclick=\"convertToInteractive('df-5766ba44-3d73-48f4-9d52-07991c1660d4')\"\n",
              "              title=\"Convert this dataframe to an interactive table.\"\n",
              "              style=\"display:none;\">\n",
              "        \n",
              "  <svg xmlns=\"http://www.w3.org/2000/svg\" height=\"24px\"viewBox=\"0 0 24 24\"\n",
              "       width=\"24px\">\n",
              "    <path d=\"M0 0h24v24H0V0z\" fill=\"none\"/>\n",
              "    <path d=\"M18.56 5.44l.94 2.06.94-2.06 2.06-.94-2.06-.94-.94-2.06-.94 2.06-2.06.94zm-11 1L8.5 8.5l.94-2.06 2.06-.94-2.06-.94L8.5 2.5l-.94 2.06-2.06.94zm10 10l.94 2.06.94-2.06 2.06-.94-2.06-.94-.94-2.06-.94 2.06-2.06.94z\"/><path d=\"M17.41 7.96l-1.37-1.37c-.4-.4-.92-.59-1.43-.59-.52 0-1.04.2-1.43.59L10.3 9.45l-7.72 7.72c-.78.78-.78 2.05 0 2.83L4 21.41c.39.39.9.59 1.41.59.51 0 1.02-.2 1.41-.59l7.78-7.78 2.81-2.81c.8-.78.8-2.07 0-2.86zM5.41 20L4 18.59l7.72-7.72 1.47 1.35L5.41 20z\"/>\n",
              "  </svg>\n",
              "      </button>\n",
              "      \n",
              "  <style>\n",
              "    .colab-df-container {\n",
              "      display:flex;\n",
              "      flex-wrap:wrap;\n",
              "      gap: 12px;\n",
              "    }\n",
              "\n",
              "    .colab-df-convert {\n",
              "      background-color: #E8F0FE;\n",
              "      border: none;\n",
              "      border-radius: 50%;\n",
              "      cursor: pointer;\n",
              "      display: none;\n",
              "      fill: #1967D2;\n",
              "      height: 32px;\n",
              "      padding: 0 0 0 0;\n",
              "      width: 32px;\n",
              "    }\n",
              "\n",
              "    .colab-df-convert:hover {\n",
              "      background-color: #E2EBFA;\n",
              "      box-shadow: 0px 1px 2px rgba(60, 64, 67, 0.3), 0px 1px 3px 1px rgba(60, 64, 67, 0.15);\n",
              "      fill: #174EA6;\n",
              "    }\n",
              "\n",
              "    [theme=dark] .colab-df-convert {\n",
              "      background-color: #3B4455;\n",
              "      fill: #D2E3FC;\n",
              "    }\n",
              "\n",
              "    [theme=dark] .colab-df-convert:hover {\n",
              "      background-color: #434B5C;\n",
              "      box-shadow: 0px 1px 3px 1px rgba(0, 0, 0, 0.15);\n",
              "      filter: drop-shadow(0px 1px 2px rgba(0, 0, 0, 0.3));\n",
              "      fill: #FFFFFF;\n",
              "    }\n",
              "  </style>\n",
              "\n",
              "      <script>\n",
              "        const buttonEl =\n",
              "          document.querySelector('#df-5766ba44-3d73-48f4-9d52-07991c1660d4 button.colab-df-convert');\n",
              "        buttonEl.style.display =\n",
              "          google.colab.kernel.accessAllowed ? 'block' : 'none';\n",
              "\n",
              "        async function convertToInteractive(key) {\n",
              "          const element = document.querySelector('#df-5766ba44-3d73-48f4-9d52-07991c1660d4');\n",
              "          const dataTable =\n",
              "            await google.colab.kernel.invokeFunction('convertToInteractive',\n",
              "                                                     [key], {});\n",
              "          if (!dataTable) return;\n",
              "\n",
              "          const docLinkHtml = 'Like what you see? Visit the ' +\n",
              "            '<a target=\"_blank\" href=https://colab.research.google.com/notebooks/data_table.ipynb>data table notebook</a>'\n",
              "            + ' to learn more about interactive tables.';\n",
              "          element.innerHTML = '';\n",
              "          dataTable['output_type'] = 'display_data';\n",
              "          await google.colab.output.renderOutput(dataTable, element);\n",
              "          const docLink = document.createElement('div');\n",
              "          docLink.innerHTML = docLinkHtml;\n",
              "          element.appendChild(docLink);\n",
              "        }\n",
              "      </script>\n",
              "    </div>\n",
              "  </div>\n",
              "  "
            ]
          },
          "metadata": {},
          "execution_count": 9
        }
      ]
    },
    {
      "cell_type": "markdown",
      "source": [
        "# Modelling"
      ],
      "metadata": {
        "id": "VeUHPgl8Lw_f"
      }
    },
    {
      "cell_type": "markdown",
      "source": [
        "## Machine Learning"
      ],
      "metadata": {
        "id": "oEz9F8NPMGoR"
      }
    },
    {
      "cell_type": "code",
      "source": [
        "X_train, X_test, y_train, y_test = train_test_split(data['text'], data['dialect'], shuffle=True, test_size=0.2, random_state=42)"
      ],
      "metadata": {
        "id": "6-qp9wtCNYYD"
      },
      "execution_count": 15,
      "outputs": []
    },
    {
      "cell_type": "code",
      "source": [
        "print(\"X Train Shape:\", X_train.shape)\n",
        "print(\"y Train Shape:\", y_train.shape)\n",
        "print(\"X Test Shape:\", X_test.shape)\n",
        "print(\"y Test Shape:\", y_test.shape)"
      ],
      "metadata": {
        "colab": {
          "base_uri": "https://localhost:8080/"
        },
        "id": "U_hNpM7tNlvD",
        "outputId": "9ef531c3-1d90-45e5-80ef-efca292f40a9"
      },
      "execution_count": 16,
      "outputs": [
        {
          "output_type": "stream",
          "name": "stdout",
          "text": [
            "X Train Shape: (117886,)\n",
            "y Train Shape: (117886,)\n",
            "X Test Shape: (29472,)\n",
            "y Test Shape: (29472,)\n"
          ]
        }
      ]
    },
    {
      "cell_type": "code",
      "source": [
        "def ML_evaluator(model, X_test, y_test):\n",
        "  y_pred = model.predict(X_test)\n",
        "  print(\"Test Accuracy:\", accuracy_score(y_test, y_pred))\n",
        "  print(classification_report(y_test, y_pred))\n",
        "  cm = confusion_matrix(y_test, y_pred)\n",
        "  sns.heatmap(cm, annot=True, fmt=\"d\")\n",
        "  plt.show()"
      ],
      "metadata": {
        "id": "dsU0egWMLVjW"
      },
      "execution_count": 17,
      "outputs": []
    },
    {
      "cell_type": "markdown",
      "source": [
        "### Modelling & Evaluating ML Algorithms"
      ],
      "metadata": {
        "id": "JamrP81iOwSQ"
      }
    },
    {
      "cell_type": "markdown",
      "source": [
        "#### NB Model with Count Vectorizer"
      ],
      "metadata": {
        "id": "-ZEnDD4itHdM"
      }
    },
    {
      "cell_type": "code",
      "source": [
        "cv = CountVectorizer(ngram_range=(1,2), binary=False)\n",
        "cv.fit(X_train)\n",
        "X_train_cv = cv.transform(X_train)\n",
        "X_test_cv = cv.transform(X_test)"
      ],
      "metadata": {
        "id": "S73eJkXiNND0"
      },
      "execution_count": 63,
      "outputs": []
    },
    {
      "cell_type": "code",
      "source": [
        "class_freq = np.bincount(y_train)\n",
        "total_samples = len(y_train)\n",
        "class_prior = class_freq / total_samples\n",
        "\n",
        "# Create a MultinomialNB model with class weights\n",
        "class_prior"
      ],
      "metadata": {
        "colab": {
          "base_uri": "https://localhost:8080/"
        },
        "id": "u7-rCuiKx7wl",
        "outputId": "9bded5e1-bd04-4c7d-ec6b-b34a362d6879"
      },
      "execution_count": 64,
      "outputs": [
        {
          "output_type": "execute_result",
          "data": {
            "text/plain": [
              "array([0.39012266, 0.24771389, 0.18689242, 0.09762822, 0.07764281])"
            ]
          },
          "metadata": {},
          "execution_count": 64
        }
      ]
    },
    {
      "cell_type": "code",
      "source": [
        "NB = MultinomialNB(class_prior=[0.05,0.05,0.25,0.25,0.3]).fit(X_train_cv, y_train)\n",
        "ML_evaluator(NB, X_test_cv, y_test)"
      ],
      "metadata": {
        "colab": {
          "base_uri": "https://localhost:8080/",
          "height": 656
        },
        "id": "v9GoC1RKtBrZ",
        "outputId": "f25a7b40-2548-44ad-d942-b7d10100c4f5"
      },
      "execution_count": 65,
      "outputs": [
        {
          "output_type": "stream",
          "name": "stdout",
          "text": [
            "Test Accuracy: 0.8101248642779587\n",
            "              precision    recall  f1-score   support\n",
            "\n",
            "           0       0.78      0.95      0.85     11475\n",
            "           1       0.89      0.73      0.80      7231\n",
            "           2       0.81      0.88      0.84      5522\n",
            "           3       0.79      0.48      0.60      2894\n",
            "           4       0.84      0.63      0.72      2350\n",
            "\n",
            "    accuracy                           0.81     29472\n",
            "   macro avg       0.82      0.73      0.76     29472\n",
            "weighted avg       0.82      0.81      0.80     29472\n",
            "\n"
          ]
        },
        {
          "output_type": "display_data",
          "data": {
            "text/plain": [
              "<Figure size 640x480 with 2 Axes>"
            ],
            "image/png": "[encoded data removed]"
          },
          "metadata": {}
        }
      ]
    },
    {
      "cell_type": "code",
      "source": [
        "with open('BOW.pickle', 'wb') as handle:\n",
        "    pickle.dump(cv, handle, protocol=pickle.HIGHEST_PROTOCOL)"
      ],
      "metadata": {
        "id": "2RUgGRVfd_zq"
      },
      "execution_count": 67,
      "outputs": []
    },
    {
      "cell_type": "code",
      "source": [
        "# Save the model\n",
        "with open('NB_model.pickle', 'wb') as handle:\n",
        "    pickle.dump(NB, handle, protocol=pickle.HIGHEST_PROTOCOL)"
      ],
      "metadata": {
        "id": "AX0wlFHBd4O1"
      },
      "execution_count": 66,
      "outputs": []
    },
    {
      "cell_type": "markdown",
      "source": [
        "#### LR Model with TfIDF Vectorizer"
      ],
      "metadata": {
        "id": "QVao27C4uq25"
      }
    },
    {
      "cell_type": "code",
      "source": [
        "vectorizer = TfidfVectorizer(ngram_range=(1,2))\n",
        "X_train_vec = vectorizer.fit_transform(X_train)\n",
        "X_test_vec = vectorizer.transform(X_test)"
      ],
      "metadata": {
        "id": "zgTZqgW2ynJ4"
      },
      "execution_count": 15,
      "outputs": []
    },
    {
      "cell_type": "code",
      "source": [
        "LR = LogisticRegression().fit(X_train_vec, y_train)\n",
        "ML_evaluator(LR, X_test_vec, y_test)"
      ],
      "metadata": {
        "colab": {
          "base_uri": "https://localhost:8080/",
          "height": 656
        },
        "id": "mz8bJp4vOrEL",
        "outputId": "68949284-dab6-4d74-caf3-d906315eefda"
      },
      "execution_count": 16,
      "outputs": [
        {
          "output_type": "stream",
          "name": "stdout",
          "text": [
            "Test Accuracy: 0.8011672095548317\n",
            "              precision    recall  f1-score   support\n",
            "\n",
            "           0       0.79      0.93      0.85     11475\n",
            "           1       0.76      0.80      0.78      7231\n",
            "           2       0.85      0.79      0.82      5522\n",
            "           3       0.84      0.50      0.63      2894\n",
            "           4       0.90      0.58      0.70      2350\n",
            "\n",
            "    accuracy                           0.80     29472\n",
            "   macro avg       0.83      0.72      0.76     29472\n",
            "weighted avg       0.81      0.80      0.79     29472\n",
            "\n"
          ]
        },
        {
          "output_type": "display_data",
          "data": {
            "text/plain": [
              "<Figure size 640x480 with 2 Axes>"
            ],
            "image/png": "[encoded data removed]"
          },
          "metadata": {}
        }
      ]
    },
    {
      "cell_type": "markdown",
      "source": [
        "## Deep Learning"
      ],
      "metadata": {
        "id": "eP0ucu4SbpJY"
      }
    },
    {
      "cell_type": "code",
      "source": [
        "def DL_evaluator(model, X_test, y_test):\n",
        "  y_pred = model.predict(X_test, verbose=0)\n",
        "  y_pred = np.argmax(y_pred, axis=1)\n",
        "  print(\"Test Accuracy:\", accuracy_score(y_test, y_pred))\n",
        "  print(classification_report(y_test, y_pred))\n",
        "  cm = confusion_matrix(y_test, y_pred)\n",
        "  sns.heatmap(cm, annot=True, fmt=\"d\")\n",
        "  plt.show()"
      ],
      "metadata": {
        "id": "__itP6Fab_Bn"
      },
      "execution_count": 18,
      "outputs": []
    },
    {
      "cell_type": "markdown",
      "source": [
        "### LSTM"
      ],
      "metadata": {
        "id": "H_YZL6SK3QI4"
      }
    },
    {
      "cell_type": "code",
      "source": [
        "train_df, test_df = train_test_split(data, test_size=0.2, random_state=42)\n",
        "train_df, val_df = train_test_split(train_df, test_size=0.1, random_state=42)"
      ],
      "metadata": {
        "id": "6W1TerepgNqT"
      },
      "execution_count": 44,
      "outputs": []
    },
    {
      "cell_type": "code",
      "source": [
        "# Tokenize the texts and convert them to sequences of integers\n",
        "tokenizer = Tokenizer()\n",
        "tokenizer.fit_on_texts(train_df['text'])\n",
        "train_sequences = tokenizer.texts_to_sequences(train_df['text'])\n",
        "val_sequences = tokenizer.texts_to_sequences(val_df['text'])\n",
        "test_sequences = tokenizer.texts_to_sequences(test_df['text'])"
      ],
      "metadata": {
        "id": "Tww4RUQ550hI"
      },
      "execution_count": 45,
      "outputs": []
    },
    {
      "cell_type": "code",
      "source": [
        "# Pad the sequences to ensure they have the same length\n",
        "max_len = 100\n",
        "train_padded_sequences = pad_sequences(train_sequences, maxlen=max_len)\n",
        "val_padded_sequences = pad_sequences(val_sequences, maxlen=max_len)\n",
        "test_padded_sequences = pad_sequences(test_sequences, maxlen=max_len)"
      ],
      "metadata": {
        "id": "Hw88cnm852pk"
      },
      "execution_count": 46,
      "outputs": []
    },
    {
      "cell_type": "code",
      "source": [
        "train_labels = to_categorical(train_df['dialect'])\n",
        "val_labels = to_categorical(val_df['dialect'])\n",
        "test_labels = to_categorical(test_df['dialect'])"
      ],
      "metadata": {
        "id": "ztbtpNns5398"
      },
      "execution_count": 47,
      "outputs": []
    },
    {
      "cell_type": "code",
      "source": [
        "# Define the LSTM model\n",
        "vocab_size = len(tokenizer.word_index) + 1\n",
        "embedding_dim = 100\n",
        "LSTM_model = Sequential()\n",
        "LSTM_model.add(Embedding(vocab_size, embedding_dim, input_length=max_len))\n",
        "LSTM_model.add(LSTM(64, dropout=0.2, recurrent_dropout=0.2))\n",
        "LSTM_model.add(Dense(5, activation='softmax'))"
      ],
      "metadata": {
        "colab": {
          "base_uri": "https://localhost:8080/"
        },
        "id": "A5zHPrFx6DUM",
        "outputId": "5e264007-1ff5-4160-c779-2be3c5452260"
      },
      "execution_count": 54,
      "outputs": [
        {
          "output_type": "stream",
          "name": "stderr",
          "text": [
            "WARNING:tensorflow:Layer lstm_3 will not use cuDNN kernels since it doesn't meet the criteria. It will use a generic GPU kernel as fallback when running on GPU.\n"
          ]
        }
      ]
    },
    {
      "cell_type": "code",
      "source": [
        "# Compile the model\n",
        "LSTM_model.compile(loss='categorical_crossentropy', optimizer='adam', metrics=['accuracy'])"
      ],
      "metadata": {
        "id": "L4eo-N8d6IN1"
      },
      "execution_count": 55,
      "outputs": []
    },
    {
      "cell_type": "code",
      "source": [
        "# Train the model\n",
        "epochs = 2\n",
        "batch_size = 32\n",
        "LSTM_history = LSTM_model.fit(train_padded_sequences, train_labels, epochs= epochs, batch_size = batch_size, validation_data=(val_padded_sequences, val_labels))"
      ],
      "metadata": {
        "colab": {
          "base_uri": "https://localhost:8080/"
        },
        "id": "BMF5cMpH6LiL",
        "outputId": "667bee9e-d448-40bf-abed-1dc4f1650538"
      },
      "execution_count": 56,
      "outputs": [
        {
          "output_type": "stream",
          "name": "stdout",
          "text": [
            "Epoch 1/2\n",
            "3316/3316 [==============================] - 1436s 432ms/step - loss: 0.6518 - accuracy: 0.7653 - val_loss: 0.5356 - val_accuracy: 0.8102\n",
            "Epoch 2/2\n",
            "3316/3316 [==============================] - 1358s 410ms/step - loss: 0.2635 - accuracy: 0.9132 - val_loss: 0.5975 - val_accuracy: 0.8068\n"
          ]
        }
      ]
    },
    {
      "cell_type": "code",
      "source": [
        "LSTM_model.save('LSTM_model.h5')"
      ],
      "metadata": {
        "id": "Lp0EWzKKG5YE"
      },
      "execution_count": 51,
      "outputs": []
    },
    {
      "cell_type": "code",
      "source": [
        "DL_evaluator(LSTM_model, test_padded_sequences, test_df['dialect'])"
      ],
      "metadata": {
        "colab": {
          "base_uri": "https://localhost:8080/",
          "height": 656
        },
        "id": "_Ggcsqg1RvJZ",
        "outputId": "228cc9c7-cf5b-4cf8-b8f4-11081ba97da0"
      },
      "execution_count": 57,
      "outputs": [
        {
          "output_type": "stream",
          "name": "stdout",
          "text": [
            "Test Accuracy: 0.8163680781758957\n",
            "              precision    recall  f1-score   support\n",
            "\n",
            "           0       0.84      0.90      0.87     11475\n",
            "           1       0.79      0.82      0.80      7231\n",
            "           2       0.82      0.84      0.83      5522\n",
            "           3       0.75      0.61      0.68      2894\n",
            "           4       0.85      0.62      0.72      2350\n",
            "\n",
            "    accuracy                           0.82     29472\n",
            "   macro avg       0.81      0.76      0.78     29472\n",
            "weighted avg       0.82      0.82      0.81     29472\n",
            "\n"
          ]
        },
        {
          "output_type": "display_data",
          "data": {
            "text/plain": [
              "<Figure size 640x480 with 2 Axes>"
            ],
            "image/png": "[encoded data removed]"
          },
          "metadata": {}
        }
      ]
    },
    {
      "cell_type": "code",
      "source": [
        "# Save the tokenizer\n",
        "with open('tokenizer.pickle', 'wb') as handle:\n",
        "    pickle.dump(tokenizer, handle, protocol=pickle.HIGHEST_PROTOCOL)"
      ],
      "metadata": {
        "id": "V8sbL66Wdl6W"
      },
      "execution_count": 61,
      "outputs": []
    },
    {
      "cell_type": "code",
      "source": [
        "LSTM_model.save('LSTM_model.h5')"
      ],
      "metadata": {
        "id": "Xd1WIViJdA1X"
      },
      "execution_count": 58,
      "outputs": []
    },
    {
      "cell_type": "markdown",
      "source": [
        "## AraBert"
      ],
      "metadata": {
        "id": "oQmVVpO9LWxE"
      }
    },
    {
      "cell_type": "code",
      "source": [
        "%%capture\n",
        "! pip install transformers\n",
        "! pip3 install ktrain"
      ],
      "metadata": {
        "id": "btgyi7jALVco"
      },
      "execution_count": 11,
      "outputs": []
    },
    {
      "cell_type": "code",
      "source": [
        "from ktrain import text\n",
        "import ktrain"
      ],
      "metadata": {
        "id": "5GyHkXRYNu7d"
      },
      "execution_count": 12,
      "outputs": []
    },
    {
      "cell_type": "code",
      "source": [
        "X_train, X_test, y_train, y_test = train_test_split(data['text'], data['dialect'], test_size=0.2, random_state=42)\n",
        "X_train, X_val, y_train, y_val = train_test_split(X_train, y_train, test_size=0.1, random_state=42)"
      ],
      "metadata": {
        "id": "J0Xcj8z2MGXD"
      },
      "execution_count": 13,
      "outputs": []
    },
    {
      "cell_type": "code",
      "source": [
        "classes = np.array([0,1,2,3,4])\n",
        "classes"
      ],
      "metadata": {
        "colab": {
          "base_uri": "https://localhost:8080/"
        },
        "id": "e_HwT-cwMw_K",
        "outputId": "d3021be7-5e00-4c74-a7a8-daaa0bd87ce8"
      },
      "execution_count": 14,
      "outputs": [
        {
          "output_type": "execute_result",
          "data": {
            "text/plain": [
              "array([0, 1, 2, 3, 4])"
            ]
          },
          "metadata": {},
          "execution_count": 14
        }
      ]
    },
    {
      "cell_type": "code",
      "source": [
        "t = text.Transformer('aubmindlab/bert-base-arabertv2', maxlen=76, class_names=classes)\n",
        "trn = t.preprocess_train(X_train.to_numpy(), y_train.to_numpy())\n",
        "val = t.preprocess_test(X_val.to_numpy(), y_val.to_numpy())"
      ],
      "metadata": {
        "colab": {
          "base_uri": "https://localhost:8080/",
          "height": 243
        },
        "id": "EWyhLFRWNZYp",
        "outputId": "a4e912f0-aad9-43c3-ce49-227d8920fc5a"
      },
      "execution_count": 15,
      "outputs": [
        {
          "output_type": "stream",
          "name": "stdout",
          "text": [
            "preprocessing train...\n",
            "language: ar\n",
            "train sequence lengths:\n",
            "\tmean : 12\n",
            "\t95percentile : 32\n",
            "\t99percentile : 43\n"
          ]
        },
        {
          "output_type": "display_data",
          "data": {
            "text/plain": [
              "<IPython.core.display.HTML object>"
            ],
            "text/html": [
              "\n",
              "<style>\n",
              "    /* Turns off some styling */\n",
              "    progress {\n",
              "        /* gets rid of default border in Firefox and Opera. */\n",
              "        border: none;\n",
              "        /* Needs to be in here for Safari polyfill so background images work as expected. */\n",
              "        background-size: auto;\n",
              "    }\n",
              "    progress:not([value]), progress:not([value])::-webkit-progress-bar {\n",
              "        background: repeating-linear-gradient(45deg, #7e7e7e, #7e7e7e 10px, #5c5c5c 10px, #5c5c5c 20px);\n",
              "    }\n",
              "    .progress-bar-interrupted, .progress-bar-interrupted::-webkit-progress-bar {\n",
              "        background: #F44336;\n",
              "    }\n",
              "</style>\n"
            ]
          },
          "metadata": {}
        },
        {
          "output_type": "display_data",
          "data": {
            "text/plain": [
              "<IPython.core.display.HTML object>"
            ],
            "text/html": []
          },
          "metadata": {}
        },
        {
          "output_type": "stream",
          "name": "stdout",
          "text": [
            "Is Multi-Label? False\n",
            "preprocessing test...\n",
            "language: ar\n",
            "test sequence lengths:\n",
            "\tmean : 12\n",
            "\t95percentile : 32\n",
            "\t99percentile : 43\n"
          ]
        },
        {
          "output_type": "display_data",
          "data": {
            "text/plain": [
              "<IPython.core.display.HTML object>"
            ],
            "text/html": [
              "\n",
              "<style>\n",
              "    /* Turns off some styling */\n",
              "    progress {\n",
              "        /* gets rid of default border in Firefox and Opera. */\n",
              "        border: none;\n",
              "        /* Needs to be in here for Safari polyfill so background images work as expected. */\n",
              "        background-size: auto;\n",
              "    }\n",
              "    progress:not([value]), progress:not([value])::-webkit-progress-bar {\n",
              "        background: repeating-linear-gradient(45deg, #7e7e7e, #7e7e7e 10px, #5c5c5c 10px, #5c5c5c 20px);\n",
              "    }\n",
              "    .progress-bar-interrupted, .progress-bar-interrupted::-webkit-progress-bar {\n",
              "        background: #F44336;\n",
              "    }\n",
              "</style>\n"
            ]
          },
          "metadata": {}
        },
        {
          "output_type": "display_data",
          "data": {
            "text/plain": [
              "<IPython.core.display.HTML object>"
            ],
            "text/html": []
          },
          "metadata": {}
        }
      ]
    },
    {
      "cell_type": "code",
      "source": [
        "model = t.get_classifier()\n",
        "model.summary()"
      ],
      "metadata": {
        "colab": {
          "base_uri": "https://localhost:8080/"
        },
        "id": "VXtoNNHDNwUo",
        "outputId": "055f34a6-190b-4654-b4f1-b5b697de7d6b"
      },
      "execution_count": 16,
      "outputs": [
        {
          "output_type": "stream",
          "name": "stdout",
          "text": [
            "Model: \"tf_bert_for_sequence_classification_1\"\n",
            "_________________________________________________________________\n",
            " Layer (type)                Output Shape              Param #   \n",
            "=================================================================\n",
            " bert (TFBertMainLayer)      multiple                  135193344 \n",
            "                                                                 \n",
            " dropout_75 (Dropout)        multiple                  0         \n",
            "                                                                 \n",
            " classifier (Dense)          multiple                  3845      \n",
            "                                                                 \n",
            "=================================================================\n",
            "Total params: 135,197,189\n",
            "Trainable params: 135,197,189\n",
            "Non-trainable params: 0\n",
            "_________________________________________________________________\n"
          ]
        }
      ]
    },
    {
      "cell_type": "code",
      "source": [
        "learner = ktrain.get_learner(model, train_data=trn, val_data=val, batch_size=64)\n",
        "early_stop = EarlyStopping(monitor='val_loss', patience=5, verbose=1)\n",
        "checkpointer = ModelCheckpoint(filepath='best_arabert_model.hdf5', save_best_only=True)"
      ],
      "metadata": {
        "id": "CQDfm5reOnjj"
      },
      "execution_count": 17,
      "outputs": []
    },
    {
      "cell_type": "code",
      "source": [
        "arabert_history = learner.fit(5e-5, 50, steps_per_epoch=300, callbacks=[early_stop])"
      ],
      "metadata": {
        "colab": {
          "base_uri": "https://localhost:8080/"
        },
        "id": "wh2NnjyEO5r9",
        "outputId": "37313dcc-6457-4430-cb95-764668921a0b"
      },
      "execution_count": 18,
      "outputs": [
        {
          "output_type": "stream",
          "name": "stdout",
          "text": [
            "Epoch 1/50\n",
            "300/300 [==============================] - 393s 1s/step - loss: 0.8723 - accuracy: 0.6851 - val_loss: 0.7489 - val_accuracy: 0.7386\n",
            "Epoch 2/50\n",
            "300/300 [==============================] - 334s 1s/step - loss: 0.6997 - accuracy: 0.7493 - val_loss: 0.6540 - val_accuracy: 0.7687\n",
            "Epoch 3/50\n",
            "300/300 [==============================] - 334s 1s/step - loss: 0.6720 - accuracy: 0.7562 - val_loss: 0.6347 - val_accuracy: 0.7753\n",
            "Epoch 4/50\n",
            "300/300 [==============================] - 334s 1s/step - loss: 0.6203 - accuracy: 0.7766 - val_loss: 0.6009 - val_accuracy: 0.7824\n",
            "Epoch 5/50\n",
            "300/300 [==============================] - 354s 1s/step - loss: 0.6025 - accuracy: 0.7836 - val_loss: 0.5911 - val_accuracy: 0.7843\n",
            "Epoch 6/50\n",
            "300/300 [==============================] - 353s 1s/step - loss: 0.5413 - accuracy: 0.8084 - val_loss: 0.5925 - val_accuracy: 0.8031\n",
            "Epoch 7/50\n",
            "300/300 [==============================] - 333s 1s/step - loss: 0.4903 - accuracy: 0.8291 - val_loss: 0.5706 - val_accuracy: 0.7987\n",
            "Epoch 8/50\n",
            "300/300 [==============================] - 333s 1s/step - loss: 0.4946 - accuracy: 0.8281 - val_loss: 0.5595 - val_accuracy: 0.8017\n",
            "Epoch 9/50\n",
            "300/300 [==============================] - 333s 1s/step - loss: 0.4878 - accuracy: 0.8302 - val_loss: 0.5523 - val_accuracy: 0.8085\n",
            "Epoch 10/50\n",
            "300/300 [==============================] - 354s 1s/step - loss: 0.4801 - accuracy: 0.8318 - val_loss: 0.5339 - val_accuracy: 0.8124\n",
            "Epoch 11/50\n",
            "300/300 [==============================] - 334s 1s/step - loss: 0.4775 - accuracy: 0.8334 - val_loss: 0.5422 - val_accuracy: 0.8111\n",
            "Epoch 12/50\n",
            "300/300 [==============================] - 352s 1s/step - loss: 0.3803 - accuracy: 0.8707 - val_loss: 0.5404 - val_accuracy: 0.8163\n",
            "Epoch 13/50\n",
            "300/300 [==============================] - 334s 1s/step - loss: 0.3758 - accuracy: 0.8724 - val_loss: 0.5710 - val_accuracy: 0.8143\n",
            "Epoch 14/50\n",
            "300/300 [==============================] - 334s 1s/step - loss: 0.3768 - accuracy: 0.8716 - val_loss: 0.5569 - val_accuracy: 0.8137\n",
            "Epoch 15/50\n",
            "300/300 [==============================] - 354s 1s/step - loss: 0.3832 - accuracy: 0.8686 - val_loss: 0.5552 - val_accuracy: 0.8177\n",
            "Epoch 15: early stopping\n"
          ]
        }
      ]
    },
    {
      "cell_type": "code",
      "source": [
        "test = t.preprocess_test(X_test.to_numpy(), y_test.to_numpy())"
      ],
      "metadata": {
        "colab": {
          "base_uri": "https://localhost:8080/",
          "height": 121
        },
        "id": "WenSAIUzRhKd",
        "outputId": "93e5355e-9676-4900-b25b-fa52f4837d36"
      },
      "execution_count": 19,
      "outputs": [
        {
          "output_type": "stream",
          "name": "stdout",
          "text": [
            "preprocessing test...\n",
            "language: ar\n",
            "test sequence lengths:\n",
            "\tmean : 11\n",
            "\t95percentile : 31\n",
            "\t99percentile : 43\n"
          ]
        },
        {
          "output_type": "display_data",
          "data": {
            "text/plain": [
              "<IPython.core.display.HTML object>"
            ],
            "text/html": [
              "\n",
              "<style>\n",
              "    /* Turns off some styling */\n",
              "    progress {\n",
              "        /* gets rid of default border in Firefox and Opera. */\n",
              "        border: none;\n",
              "        /* Needs to be in here for Safari polyfill so background images work as expected. */\n",
              "        background-size: auto;\n",
              "    }\n",
              "    progress:not([value]), progress:not([value])::-webkit-progress-bar {\n",
              "        background: repeating-linear-gradient(45deg, #7e7e7e, #7e7e7e 10px, #5c5c5c 10px, #5c5c5c 20px);\n",
              "    }\n",
              "    .progress-bar-interrupted, .progress-bar-interrupted::-webkit-progress-bar {\n",
              "        background: #F44336;\n",
              "    }\n",
              "</style>\n"
            ]
          },
          "metadata": {}
        },
        {
          "output_type": "display_data",
          "data": {
            "text/plain": [
              "<IPython.core.display.HTML object>"
            ],
            "text/html": []
          },
          "metadata": {}
        }
      ]
    },
    {
      "cell_type": "code",
      "source": [
        "y_pred = learner.predict(test)\n",
        "y_pred = np.argmax(y_pred, axis=1)\n",
        "accuracy = accuracy_score(y_test, y_pred)\n",
        "print(\"Test accuracy:\", accuracy)"
      ],
      "metadata": {
        "colab": {
          "base_uri": "https://localhost:8080/"
        },
        "id": "5tuVGRQKn7Bm",
        "outputId": "fe19fe87-0cab-4ed2-8b5c-37d116c37fd1"
      },
      "execution_count": 24,
      "outputs": [
        {
          "output_type": "stream",
          "name": "stdout",
          "text": [
            "29472/29472 [==============================] - 1001s 34ms/step\n",
            "Test accuracy: 0.8217630293159609\n"
          ]
        }
      ]
    },
    {
      "cell_type": "code",
      "source": [
        "print(classification_report(y_test, y_pred))\n",
        "cm = confusion_matrix(y_test, y_pred)\n",
        "sns.heatmap(cm, annot=True, fmt=\"d\")\n",
        "plt.show()"
      ],
      "metadata": {
        "colab": {
          "base_uri": "https://localhost:8080/",
          "height": 638
        },
        "id": "Rl1MfJ-imr1K",
        "outputId": "0dda0069-74c7-4cff-b6b9-f9856df6e2c4"
      },
      "execution_count": 26,
      "outputs": [
        {
          "output_type": "stream",
          "name": "stdout",
          "text": [
            "              precision    recall  f1-score   support\n",
            "\n",
            "           0       0.83      0.92      0.87     11475\n",
            "           1       0.78      0.82      0.80      7231\n",
            "           2       0.84      0.84      0.84      5522\n",
            "           3       0.83      0.54      0.66      2894\n",
            "           4       0.84      0.66      0.74      2350\n",
            "\n",
            "    accuracy                           0.82     29472\n",
            "   macro avg       0.83      0.76      0.78     29472\n",
            "weighted avg       0.82      0.82      0.82     29472\n",
            "\n"
          ]
        },
        {
          "output_type": "display_data",
          "data": {
            "text/plain": [
              "<Figure size 640x480 with 2 Axes>"
            ],
            "image/png": "[encoded data removed]"
          },
          "metadata": {}
        }
      ]
    }
  ]
}